{
  "nbformat": 4,
  "nbformat_minor": 0,
  "metadata": {
    "colab": {
      "provenance": []
    },
    "kernelspec": {
      "name": "python3",
      "display_name": "Python 3"
    },
    "language_info": {
      "name": "python"
    }
  },
  "cells": [
    {
      "cell_type": "code",
      "execution_count": null,
      "metadata": {
        "id": "jTbm8i5INSM1"
      },
      "outputs": [],
      "source": [
        "import pandas as pd\n",
        "import numpy as np\n",
        "import matplotlib.pyplot as plt\n",
        "import seaborn as sns\n",
        "from sklearn.model_selection import train_test_split\n",
        "from sklearn.preprocessing import StandardScaler, LabelEncoder\n",
        "from sklearn.ensemble import RandomForestClassifier\n",
        "from sklearn.metrics import accuracy_score, classification_report, confusion_matrix"
      ]
    },
    {
      "cell_type": "code",
      "source": [
        "from google.colab import drive\n",
        "drive.mount('/content/drive')\n"
      ],
      "metadata": {
        "colab": {
          "base_uri": "https://localhost:8080/"
        },
        "id": "6BT1h7HTQ6Wu",
        "outputId": "96b710a9-8596-46af-f488-fd3012fff62c"
      },
      "execution_count": null,
      "outputs": [
        {
          "output_type": "stream",
          "name": "stdout",
          "text": [
            "Drive already mounted at /content/drive; to attempt to forcibly remount, call drive.mount(\"/content/drive\", force_remount=True).\n"
          ]
        }
      ]
    },
    {
      "cell_type": "code",
      "source": [
        "!ls /content/drive/My\\ Drive/"
      ],
      "metadata": {
        "colab": {
          "base_uri": "https://localhost:8080/"
        },
        "id": "xw5UcbjyRMA6",
        "outputId": "ada48398-765a-4d29-a16d-9703524f1a8e"
      },
      "execution_count": null,
      "outputs": [
        {
          "output_type": "stream",
          "name": "stdout",
          "text": [
            "'109 Proposal.gdoc'\n",
            "'109 script.gdoc'\n",
            " 437602110_453140267306321_6190664469317572718_n.png\n",
            "'7pm .gdoc'\n",
            "'acm_template-1 (1).gdoc'\n",
            " acm_template-1.gdoc\n",
            " AI_DOCUMENT.gdoc\n",
            "'ai sc.gdoc'\n",
            "'An Evaluation of Phishing-Based Email Hacking and Data Infiltration of the Panda APT Group Against the Philippine Government.gdoc'\n",
            "'ANNEX A1 - FM-RS-08-01 PROPOSAL ORAL EXAMINATION.pdf'\n",
            "'ANNEX A2 - FM-RS-20-01 Proposal Billing Form.pdf'\n",
            "'ANNEX B1 - FM-RS-11-02 FINAL ORAL EXAMINATION.pdf'\n",
            "'ANNEX B2 - FM-RS-21-01 Final Billing Form.pdf'\n",
            "'ANNEX C - Recommendation for Defense.pdf'\n",
            "'Aristotle - Your Habitual Tracker.gform'\n",
            " ASSIGN1_DURAN.gdoc\n",
            "'Authorization to Receive Items.gdoc'\n",
            " bday\n",
            "'Chapter 1&2 - Grp18.gdoc'\n",
            "'Chapter 1 - CSS109.gdoc'\n",
            "'Chapter 2 - Grp 18.gdoc'\n",
            "'Chapter 3 References.gdoc'\n",
            "'Chapter III.gdoc'\n",
            " cinema\n",
            "'cinema final(?)'\n",
            " cinema_proj\n",
            "'Colab Notebooks'\n",
            "'Copy of AI_DOCUMENT.gdoc'\n",
            "'Copy of Duran, Ramilo, Tamayo, Guzman-BM2.gdoc'\n",
            "'Copy of UNMASKING DIGITAL DECEPTION .gdoc'\n",
            "'Copy of Utilization of Machine Learning to Consumer Price Index Yearly Fluctuations.gdoc'\n",
            "'css142L research paper.pdf'\n",
            "'CSS152L - GROUP 6.gdoc'\n",
            " Dabie\n",
            " data\n",
            "'Duran, Darlene Antonette'\n",
            " DURAN_Mod4_exercise.gdoc\n",
            "'Duran, Ramilo, Guzman, Tamayo_Public Consent Form.gdoc'\n",
            " Duran-Ramilo_MP1_Screenshots.gdoc\n",
            "'Duran, Ramilo, Tamayo, Guzman-BM2.gdoc'\n",
            "'DURAN - RESUME TEMPLATE.pdf'\n",
            "'E5_FINAL REPORT_GROUP2.gdoc'\n",
            "'E6-Final Report-Gr5.gdoc'\n",
            "'E6_FINAL REPORT_GROUP 2.gdoc'\n",
            " E-Card.gslides\n",
            " elden\n",
            "'February 7 Meeting:.gdoc'\n",
            " game\n",
            "'GDSC Mapua Makati (Constitution, By-Laws, Objectives).gdoc'\n",
            "'GDSC Mapua Makati.gdoc'\n",
            "'GDSC MEETING LIST.gdoc'\n",
            "'GDSC Member Lists (2024).gsheet'\n",
            "'GDSC Officer Compilation.gdoc'\n",
            "'GDSC (Term 1 & 2 Member list - 2024).gdoc'\n",
            "'GDSC (Term 1 & 2 Member list) - Pie chart 1.gsheet'\n",
            " iSWIPE\n",
            " ITS132L-MAURITANIA.gdoc\n",
            " ITS162-ACT7-RAMILO.zip\n",
            " itsss\n",
            "'Mini script.gdoc'\n",
            " MOD1_ASSESS3_DURAN.gdoc\n",
            " MOD2_ASSESS4_DURAN.gdoc\n",
            " MP\n",
            " MP-1\n",
            " mp1-4th\n",
            " oddeven\n",
            "'O Henry Project.gdoc'\n",
            " Pics\n",
            " Pictures\n",
            "'Process A complete -9.gdoc'\n",
            " RAMILO-RESUME.pdf\n",
            " references.gdoc\n",
            " scrip.gdoc\n",
            "'script 165.gdoc'\n",
            "'SCRIPT - BIC.gdoc'\n",
            " SCRIPT.gdoc\n",
            " SHARE-A-RIDE.gform\n",
            "'SHARE-A-RIDE (Responses).gsheet'\n",
            " sinta\n",
            "'sinta 24'\n",
            " SKIRP.pdf.gdoc\n",
            " sog\n",
            "'SUPERSTORE - MAURITANIA.gdoc'\n",
            "'Surname_MOA ('\\''23-'\\''24) (1).gdoc'\n",
            "'Surname_MOA ('\\''23-'\\''24) (2).gdoc'\n",
            "'Surname_MOA ('\\''23-'\\''24).gdoc'\n",
            "'THESIS 1.gdoc'\n",
            "'Total War Rome II.zip'\n",
            " tropapops\n",
            "'UNMASKING DIGITAL DECEPTION .gdoc'\n",
            "'Untitled document (10).gdoc'\n",
            "'Untitled document (11).gdoc'\n",
            "'Untitled document (12).gdoc'\n",
            "'Untitled document (13).gdoc'\n",
            "'Untitled document (14).gdoc'\n",
            "'Untitled document (15).gdoc'\n",
            "'Untitled document (1).gdoc'\n",
            "'Untitled document (2).gdoc'\n",
            "'Untitled document (3).gdoc'\n",
            "'Untitled document (4).gdoc'\n",
            "'Untitled document (5).gdoc'\n",
            "'Untitled document (6).gdoc'\n",
            "'Untitled document (7).gdoc'\n",
            "'Untitled document (8).gdoc'\n",
            "'Untitled document (9).gdoc'\n",
            "'Untitled document.gdoc'\n",
            "'Untitled document - Line chart 1.gsheet'\n",
            "'Untitled spreadsheet.gsheet'\n"
          ]
        }
      ]
    },
    {
      "cell_type": "code",
      "source": [
        "!ls /content/drive/My\\ Drive/122Colab/"
      ],
      "metadata": {
        "colab": {
          "base_uri": "https://localhost:8080/"
        },
        "id": "M_taYRHWRUMv",
        "outputId": "276d4013-318d-43fb-e454-b7ede042b442"
      },
      "execution_count": null,
      "outputs": [
        {
          "output_type": "stream",
          "name": "stdout",
          "text": [
            "megaGymDataset.csv  WORKOUT.ipynb\n"
          ]
        }
      ]
    },
    {
      "cell_type": "code",
      "source": [
        "file_path = \"/content/drive/My Drive/megaGymDataset.csv\""
      ],
      "metadata": {
        "id": "QM03qCe_R0KW"
      },
      "execution_count": null,
      "outputs": []
    },
    {
      "cell_type": "code",
      "source": [
        "import pandas as pd\n",
        "import numpy as np\n",
        "import matplotlib.pyplot as plt\n",
        "import seaborn as sns\n",
        "from sklearn.model_selection import train_test_split\n",
        "from sklearn.preprocessing import LabelEncoder, StandardScaler\n",
        "from sklearn.ensemble import RandomForestClassifier\n",
        "from sklearn.metrics import accuracy_score, classification_report, confusion_matrix\n"
      ],
      "metadata": {
        "id": "SioB91AwSCld"
      },
      "execution_count": null,
      "outputs": []
    },
    {
      "cell_type": "code",
      "source": [
        "from google.colab import drive\n",
        "drive.mount('/content/drive')"
      ],
      "metadata": {
        "colab": {
          "base_uri": "https://localhost:8080/"
        },
        "id": "5EspmYxYSFDz",
        "outputId": "c2487cd0-3233-4fa4-ada3-4d6750d38608"
      },
      "execution_count": null,
      "outputs": [
        {
          "output_type": "stream",
          "name": "stdout",
          "text": [
            "Drive already mounted at /content/drive; to attempt to forcibly remount, call drive.mount(\"/content/drive\", force_remount=True).\n"
          ]
        }
      ]
    },
    {
      "cell_type": "code",
      "source": [
        "file_path = \"/content/drive/My Drive/megaGymDataset.csv\""
      ],
      "metadata": {
        "id": "wbnYr_UaSJbd"
      },
      "execution_count": null,
      "outputs": []
    },
    {
      "cell_type": "code",
      "source": [
        "import os\n",
        "print(os.path.exists(file_path))\n"
      ],
      "metadata": {
        "colab": {
          "base_uri": "https://localhost:8080/"
        },
        "id": "6tDVbU20S2Zd",
        "outputId": "4b44ba0e-c344-4436-d98d-1fa7d268f132"
      },
      "execution_count": null,
      "outputs": [
        {
          "output_type": "stream",
          "name": "stdout",
          "text": [
            "False\n"
          ]
        }
      ]
    },
    {
      "cell_type": "code",
      "source": [
        "!ls /content/drive/My\\ Drive/\n"
      ],
      "metadata": {
        "colab": {
          "base_uri": "https://localhost:8080/"
        },
        "id": "ypKqCwFLS5hw",
        "outputId": "8d022d1d-0853-4909-c203-b4e5b365a476"
      },
      "execution_count": null,
      "outputs": [
        {
          "output_type": "stream",
          "name": "stdout",
          "text": [
            "'109 Proposal.gdoc'\n",
            "'109 script.gdoc'\n",
            " 122Colab\n",
            " 437602110_453140267306321_6190664469317572718_n.png\n",
            "'7pm .gdoc'\n",
            "'acm_template-1 (1).gdoc'\n",
            " acm_template-1.gdoc\n",
            " AI_DOCUMENT.gdoc\n",
            "'ai sc.gdoc'\n",
            "'An Evaluation of Phishing-Based Email Hacking and Data Infiltration of the Panda APT Group Against the Philippine Government.gdoc'\n",
            "'ANNEX A1 - FM-RS-08-01 PROPOSAL ORAL EXAMINATION.pdf'\n",
            "'ANNEX A2 - FM-RS-20-01 Proposal Billing Form.pdf'\n",
            "'ANNEX B1 - FM-RS-11-02 FINAL ORAL EXAMINATION.pdf'\n",
            "'ANNEX B2 - FM-RS-21-01 Final Billing Form.pdf'\n",
            "'ANNEX C - Recommendation for Defense.pdf'\n",
            "'Aristotle - Your Habitual Tracker.gform'\n",
            " ASSIGN1_DURAN.gdoc\n",
            "'Authorization to Receive Items.gdoc'\n",
            " bday\n",
            "'Chapter 1&2 - Grp18.gdoc'\n",
            "'Chapter 1 - CSS109.gdoc'\n",
            "'Chapter 2 - Grp 18.gdoc'\n",
            "'Chapter 3 References.gdoc'\n",
            "'Chapter III.gdoc'\n",
            " cinema\n",
            "'cinema final(?)'\n",
            " cinema_proj\n",
            "'Colab Notebooks'\n",
            "'Copy of AI_DOCUMENT.gdoc'\n",
            "'Copy of Duran, Ramilo, Tamayo, Guzman-BM2.gdoc'\n",
            "'Copy of UNMASKING DIGITAL DECEPTION .gdoc'\n",
            "'Copy of Utilization of Machine Learning to Consumer Price Index Yearly Fluctuations.gdoc'\n",
            "'css142L research paper.pdf'\n",
            "'CSS152L - GROUP 6.gdoc'\n",
            " Dabie\n",
            " data\n",
            "'Duran, Darlene Antonette'\n",
            " DURAN_Mod4_exercise.gdoc\n",
            "'Duran, Ramilo, Guzman, Tamayo_Public Consent Form.gdoc'\n",
            " Duran-Ramilo_MP1_Screenshots.gdoc\n",
            "'Duran, Ramilo, Tamayo, Guzman-BM2.gdoc'\n",
            "'DURAN - RESUME TEMPLATE.pdf'\n",
            "'E5_FINAL REPORT_GROUP2.gdoc'\n",
            "'E6-Final Report-Gr5.gdoc'\n",
            "'E6_FINAL REPORT_GROUP 2.gdoc'\n",
            " E-Card.gslides\n",
            " elden\n",
            "'February 7 Meeting:.gdoc'\n",
            " game\n",
            "'GDSC Mapua Makati (Constitution, By-Laws, Objectives).gdoc'\n",
            "'GDSC Mapua Makati.gdoc'\n",
            "'GDSC MEETING LIST.gdoc'\n",
            "'GDSC Member Lists (2024).gsheet'\n",
            "'GDSC Officer Compilation.gdoc'\n",
            "'GDSC (Term 1 & 2 Member list - 2024).gdoc'\n",
            "'GDSC (Term 1 & 2 Member list) - Pie chart 1.gsheet'\n",
            " iSWIPE\n",
            " ITS132L-MAURITANIA.gdoc\n",
            " ITS162-ACT7-RAMILO.zip\n",
            " itsss\n",
            "'Mini script.gdoc'\n",
            " MOD1_ASSESS3_DURAN.gdoc\n",
            " MOD2_ASSESS4_DURAN.gdoc\n",
            " MP\n",
            " MP-1\n",
            " mp1-4th\n",
            " oddeven\n",
            "'O Henry Project.gdoc'\n",
            " Pics\n",
            " Pictures\n",
            "'Process A complete -9.gdoc'\n",
            " RAMILO-RESUME.pdf\n",
            " references.gdoc\n",
            " scrip.gdoc\n",
            "'script 165.gdoc'\n",
            "'SCRIPT - BIC.gdoc'\n",
            " SCRIPT.gdoc\n",
            " SHARE-A-RIDE.gform\n",
            "'SHARE-A-RIDE (Responses).gsheet'\n",
            " sinta\n",
            "'sinta 24'\n",
            " SKIRP.pdf.gdoc\n",
            " sog\n",
            "'SUPERSTORE - MAURITANIA.gdoc'\n",
            "'Surname_MOA ('\\''23-'\\''24) (1).gdoc'\n",
            "'Surname_MOA ('\\''23-'\\''24) (2).gdoc'\n",
            "'Surname_MOA ('\\''23-'\\''24).gdoc'\n",
            "'THESIS 1.gdoc'\n",
            "'Total War Rome II.zip'\n",
            " tropapops\n",
            "'UNMASKING DIGITAL DECEPTION .gdoc'\n",
            "'Untitled document (10).gdoc'\n",
            "'Untitled document (11).gdoc'\n",
            "'Untitled document (12).gdoc'\n",
            "'Untitled document (13).gdoc'\n",
            "'Untitled document (14).gdoc'\n",
            "'Untitled document (15).gdoc'\n",
            "'Untitled document (1).gdoc'\n",
            "'Untitled document (2).gdoc'\n",
            "'Untitled document (3).gdoc'\n",
            "'Untitled document (4).gdoc'\n",
            "'Untitled document (5).gdoc'\n",
            "'Untitled document (6).gdoc'\n",
            "'Untitled document (7).gdoc'\n",
            "'Untitled document (8).gdoc'\n",
            "'Untitled document (9).gdoc'\n",
            "'Untitled document.gdoc'\n",
            "'Untitled document - Line chart 1.gsheet'\n",
            "'Untitled spreadsheet.gsheet'\n"
          ]
        }
      ]
    },
    {
      "cell_type": "code",
      "source": [
        "!ls /content/drive/My\\ Drive/122Colab/\n"
      ],
      "metadata": {
        "colab": {
          "base_uri": "https://localhost:8080/"
        },
        "id": "sPT_9JzCS7lB",
        "outputId": "44ab979d-c3a4-45d0-8e06-b00d2cd29e91"
      },
      "execution_count": null,
      "outputs": [
        {
          "output_type": "stream",
          "name": "stdout",
          "text": [
            "megaGymDataset.csv\n"
          ]
        }
      ]
    },
    {
      "cell_type": "code",
      "source": [
        "import pandas as pd\n",
        "\n",
        "file_path = \"/content/drive/My Drive/megaGymDataset.csv\"  # Update path if needed\n",
        "\n",
        "try:\n",
        "    df = pd.read_csv(file_path)\n",
        "    print(\"File loaded successfully!\")\n",
        "    print(df.head())  # Show first few rows\n",
        "except FileNotFoundError:\n",
        "    print(\"Error: File not found. Check the file path!\")\n",
        "except Exception as e:\n",
        "    print(f\"Error: {e}\")  # Print other possible errors"
      ],
      "metadata": {
        "colab": {
          "base_uri": "https://localhost:8080/"
        },
        "id": "563BBXPdTNn2",
        "outputId": "1f5835ca-43b1-4a5f-f708-3219dae1f02c"
      },
      "execution_count": null,
      "outputs": [
        {
          "output_type": "stream",
          "name": "stdout",
          "text": [
            "Error: File not found. Check the file path!\n"
          ]
        }
      ]
    },
    {
      "cell_type": "code",
      "source": [
        "from google.colab import drive\n",
        "drive.mount('/content/drive')\n"
      ],
      "metadata": {
        "colab": {
          "base_uri": "https://localhost:8080/"
        },
        "id": "dWSyoIwwTlwz",
        "outputId": "cbd9442b-f5b1-487a-f68d-8d83873985bc"
      },
      "execution_count": null,
      "outputs": [
        {
          "output_type": "stream",
          "name": "stdout",
          "text": [
            "Drive already mounted at /content/drive; to attempt to forcibly remount, call drive.mount(\"/content/drive\", force_remount=True).\n"
          ]
        }
      ]
    },
    {
      "cell_type": "code",
      "source": [
        "!ls /content/drive/My\\ Drive/\n"
      ],
      "metadata": {
        "colab": {
          "base_uri": "https://localhost:8080/"
        },
        "id": "w4YI3E6BTndx",
        "outputId": "fbfb5c47-0015-46f7-ef79-81a5cd23e42e"
      },
      "execution_count": null,
      "outputs": [
        {
          "output_type": "stream",
          "name": "stdout",
          "text": [
            "'109 Proposal.gdoc'\n",
            "'109 script.gdoc'\n",
            " 122Colab\n",
            " 437602110_453140267306321_6190664469317572718_n.png\n",
            "'7pm .gdoc'\n",
            "'acm_template-1 (1).gdoc'\n",
            " acm_template-1.gdoc\n",
            " AI_DOCUMENT.gdoc\n",
            "'ai sc.gdoc'\n",
            "'An Evaluation of Phishing-Based Email Hacking and Data Infiltration of the Panda APT Group Against the Philippine Government.gdoc'\n",
            "'ANNEX A1 - FM-RS-08-01 PROPOSAL ORAL EXAMINATION.pdf'\n",
            "'ANNEX A2 - FM-RS-20-01 Proposal Billing Form.pdf'\n",
            "'ANNEX B1 - FM-RS-11-02 FINAL ORAL EXAMINATION.pdf'\n",
            "'ANNEX B2 - FM-RS-21-01 Final Billing Form.pdf'\n",
            "'ANNEX C - Recommendation for Defense.pdf'\n",
            "'Aristotle - Your Habitual Tracker.gform'\n",
            " ASSIGN1_DURAN.gdoc\n",
            "'Authorization to Receive Items.gdoc'\n",
            " bday\n",
            "'Chapter 1&2 - Grp18.gdoc'\n",
            "'Chapter 1 - CSS109.gdoc'\n",
            "'Chapter 2 - Grp 18.gdoc'\n",
            "'Chapter 3 References.gdoc'\n",
            "'Chapter III.gdoc'\n",
            " cinema\n",
            "'cinema final(?)'\n",
            " cinema_proj\n",
            "'Colab Notebooks'\n",
            "'Copy of AI_DOCUMENT.gdoc'\n",
            "'Copy of Duran, Ramilo, Tamayo, Guzman-BM2.gdoc'\n",
            "'Copy of UNMASKING DIGITAL DECEPTION .gdoc'\n",
            "'Copy of Utilization of Machine Learning to Consumer Price Index Yearly Fluctuations.gdoc'\n",
            "'css142L research paper.pdf'\n",
            "'CSS152L - GROUP 6.gdoc'\n",
            " Dabie\n",
            " data\n",
            "'Duran, Darlene Antonette'\n",
            " DURAN_Mod4_exercise.gdoc\n",
            "'Duran, Ramilo, Guzman, Tamayo_Public Consent Form.gdoc'\n",
            " Duran-Ramilo_MP1_Screenshots.gdoc\n",
            "'Duran, Ramilo, Tamayo, Guzman-BM2.gdoc'\n",
            "'DURAN - RESUME TEMPLATE.pdf'\n",
            "'E5_FINAL REPORT_GROUP2.gdoc'\n",
            "'E6-Final Report-Gr5.gdoc'\n",
            "'E6_FINAL REPORT_GROUP 2.gdoc'\n",
            " E-Card.gslides\n",
            " elden\n",
            "'February 7 Meeting:.gdoc'\n",
            " game\n",
            "'GDSC Mapua Makati (Constitution, By-Laws, Objectives).gdoc'\n",
            "'GDSC Mapua Makati.gdoc'\n",
            "'GDSC MEETING LIST.gdoc'\n",
            "'GDSC Member Lists (2024).gsheet'\n",
            "'GDSC Officer Compilation.gdoc'\n",
            "'GDSC (Term 1 & 2 Member list - 2024).gdoc'\n",
            "'GDSC (Term 1 & 2 Member list) - Pie chart 1.gsheet'\n",
            " iSWIPE\n",
            " ITS132L-MAURITANIA.gdoc\n",
            " ITS162-ACT7-RAMILO.zip\n",
            " itsss\n",
            "'Mini script.gdoc'\n",
            " MOD1_ASSESS3_DURAN.gdoc\n",
            " MOD2_ASSESS4_DURAN.gdoc\n",
            " MP\n",
            " MP-1\n",
            " mp1-4th\n",
            " oddeven\n",
            "'O Henry Project.gdoc'\n",
            " Pics\n",
            " Pictures\n",
            "'Process A complete -9.gdoc'\n",
            " RAMILO-RESUME.pdf\n",
            " references.gdoc\n",
            " scrip.gdoc\n",
            "'script 165.gdoc'\n",
            "'SCRIPT - BIC.gdoc'\n",
            " SCRIPT.gdoc\n",
            " SHARE-A-RIDE.gform\n",
            "'SHARE-A-RIDE (Responses).gsheet'\n",
            " sinta\n",
            "'sinta 24'\n",
            " SKIRP.pdf.gdoc\n",
            " sog\n",
            "'SUPERSTORE - MAURITANIA.gdoc'\n",
            "'Surname_MOA ('\\''23-'\\''24) (1).gdoc'\n",
            "'Surname_MOA ('\\''23-'\\''24) (2).gdoc'\n",
            "'Surname_MOA ('\\''23-'\\''24).gdoc'\n",
            "'THESIS 1.gdoc'\n",
            "'Total War Rome II.zip'\n",
            " tropapops\n",
            "'UNMASKING DIGITAL DECEPTION .gdoc'\n",
            "'Untitled document (10).gdoc'\n",
            "'Untitled document (11).gdoc'\n",
            "'Untitled document (12).gdoc'\n",
            "'Untitled document (13).gdoc'\n",
            "'Untitled document (14).gdoc'\n",
            "'Untitled document (15).gdoc'\n",
            "'Untitled document (1).gdoc'\n",
            "'Untitled document (2).gdoc'\n",
            "'Untitled document (3).gdoc'\n",
            "'Untitled document (4).gdoc'\n",
            "'Untitled document (5).gdoc'\n",
            "'Untitled document (6).gdoc'\n",
            "'Untitled document (7).gdoc'\n",
            "'Untitled document (8).gdoc'\n",
            "'Untitled document (9).gdoc'\n",
            "'Untitled document.gdoc'\n",
            "'Untitled document - Line chart 1.gsheet'\n",
            "'Untitled spreadsheet.gsheet'\n"
          ]
        }
      ]
    },
    {
      "cell_type": "code",
      "source": [
        "!ls /content/drive/My\\ Drive/122Colab/\n"
      ],
      "metadata": {
        "colab": {
          "base_uri": "https://localhost:8080/"
        },
        "id": "UCC0MqgcTqVO",
        "outputId": "1af4c59c-0094-4a7a-bb83-28b90fddb1d3"
      },
      "execution_count": null,
      "outputs": [
        {
          "output_type": "stream",
          "name": "stdout",
          "text": [
            "megaGymDataset.csv\n"
          ]
        }
      ]
    },
    {
      "cell_type": "code",
      "source": [
        "file_path = \"/content/drive/My Drive/122Colab/megaGymDataset.csv\"  # Adjust if inside a folder\n"
      ],
      "metadata": {
        "id": "sVDzJ9GxTv6m"
      },
      "execution_count": null,
      "outputs": []
    },
    {
      "cell_type": "code",
      "source": [
        "import pandas as pd\n",
        "\n",
        "try:\n",
        "    df = pd.read_csv(file_path)\n",
        "    print(\"✅ File loaded successfully!\")\n",
        "    print(df.head())  # Show first few rows\n",
        "except FileNotFoundError:\n",
        "    print(\"❌ Error: File not found. Check the file path carefully!\")\n",
        "except Exception as e:\n",
        "    print(f\"⚠️ Other error: {e}\")\n"
      ],
      "metadata": {
        "colab": {
          "base_uri": "https://localhost:8080/"
        },
        "id": "RfoSSajsT0MW",
        "outputId": "7415f7e3-505e-41d5-d38e-5958a6fb134f"
      },
      "execution_count": null,
      "outputs": [
        {
          "output_type": "stream",
          "name": "stdout",
          "text": [
            "✅ File loaded successfully!\n",
            "   Unnamed: 0                         Title  \\\n",
            "0           0        Partner plank band row   \n",
            "1           1  Banded crunch isometric hold   \n",
            "2           2         FYR Banded Plank Jack   \n",
            "3           3                 Banded crunch   \n",
            "4           4                        Crunch   \n",
            "\n",
            "                                                Desc      Type    BodyPart  \\\n",
            "0  The partner plank band row is an abdominal exe...  Strength  Abdominals   \n",
            "1  The banded crunch isometric hold is an exercis...  Strength  Abdominals   \n",
            "2  The banded plank jack is a variation on the pl...  Strength  Abdominals   \n",
            "3  The banded crunch is an exercise targeting the...  Strength  Abdominals   \n",
            "4  The crunch is a popular core exercise targetin...  Strength  Abdominals   \n",
            "\n",
            "  Equipment         Level  Rating RatingDesc  \n",
            "0     Bands  Intermediate     0.0        NaN  \n",
            "1     Bands  Intermediate     NaN        NaN  \n",
            "2     Bands  Intermediate     NaN        NaN  \n",
            "3     Bands  Intermediate     NaN        NaN  \n",
            "4     Bands  Intermediate     NaN        NaN  \n"
          ]
        }
      ]
    },
    {
      "cell_type": "code",
      "source": [
        "df = pd.read_csv(file_path)"
      ],
      "metadata": {
        "id": "A18x-J3oUJgK"
      },
      "execution_count": null,
      "outputs": []
    },
    {
      "cell_type": "code",
      "source": [
        "df.drop(columns=[\"Unnamed: 0\", \"Desc\", \"RatingDesc\"], inplace=True)"
      ],
      "metadata": {
        "id": "JdqIT9l6UQmW"
      },
      "execution_count": null,
      "outputs": []
    },
    {
      "cell_type": "code",
      "source": [
        "df[\"Rating\"].fillna(df[\"Rating\"].median(), inplace=True)"
      ],
      "metadata": {
        "colab": {
          "base_uri": "https://localhost:8080/"
        },
        "id": "Is5DG0DbUTVN",
        "outputId": "cef8a098-afc4-4b64-e38c-ec7bab346325"
      },
      "execution_count": null,
      "outputs": [
        {
          "output_type": "stream",
          "name": "stderr",
          "text": [
            "<ipython-input-32-a7b4a17f12e2>:1: FutureWarning: A value is trying to be set on a copy of a DataFrame or Series through chained assignment using an inplace method.\n",
            "The behavior will change in pandas 3.0. This inplace method will never work because the intermediate object on which we are setting values always behaves as a copy.\n",
            "\n",
            "For example, when doing 'df[col].method(value, inplace=True)', try using 'df.method({col: value}, inplace=True)' or df[col] = df[col].method(value) instead, to perform the operation inplace on the original object.\n",
            "\n",
            "\n",
            "  df[\"Rating\"].fillna(df[\"Rating\"].median(), inplace=True)\n"
          ]
        }
      ]
    },
    {
      "cell_type": "code",
      "source": [
        "label_encoders = {}\n",
        "for col in [\"Type\", \"BodyPart\", \"Equipment\", \"Level\"]:\n",
        "    le = LabelEncoder()\n",
        "    df[col] = le.fit_transform(df[col])\n",
        "    label_encoders[col] = le"
      ],
      "metadata": {
        "id": "Gygg6l_DUXJP"
      },
      "execution_count": null,
      "outputs": []
    },
    {
      "cell_type": "code",
      "source": [
        "X = df.drop(columns=[\"Level\"])  # Predicting Level\n",
        "y = df[\"Level\"]"
      ],
      "metadata": {
        "id": "Pgd7EcLoUkcy"
      },
      "execution_count": null,
      "outputs": []
    },
    {
      "cell_type": "code",
      "source": [
        "X_train, X_test, y_train, y_test = train_test_split(X, y, test_size=0.2, random_state=42, stratify=y)"
      ],
      "metadata": {
        "id": "29cfIXJ4Uq6S"
      },
      "execution_count": null,
      "outputs": []
    },
    {
      "cell_type": "code",
      "source": [
        "from google.colab import drive\n",
        "drive.mount('/content/drive')"
      ],
      "metadata": {
        "colab": {
          "base_uri": "https://localhost:8080/"
        },
        "id": "nk9P-9kSWbfY",
        "outputId": "6174aaa7-a5f2-4b7e-bd3e-b6485e7a405a"
      },
      "execution_count": null,
      "outputs": [
        {
          "output_type": "stream",
          "name": "stdout",
          "text": [
            "Drive already mounted at /content/drive; to attempt to forcibly remount, call drive.mount(\"/content/drive\", force_remount=True).\n"
          ]
        }
      ]
    },
    {
      "cell_type": "code",
      "source": [
        "import pandas as pd\n",
        "import numpy as np\n",
        "import matplotlib.pyplot as plt\n",
        "import seaborn as sns\n",
        "from sklearn.model_selection import train_test_split\n",
        "from sklearn.preprocessing import LabelEncoder, StandardScaler\n",
        "from sklearn.ensemble import RandomForestClassifier  # Change if regression is needed\n",
        "from sklearn.metrics import accuracy_score, classification_report"
      ],
      "metadata": {
        "id": "HvR4euC_WfMN"
      },
      "execution_count": null,
      "outputs": []
    },
    {
      "cell_type": "code",
      "source": [
        "file_path = \"/content/drive/My Drive/122Colab/megaGymDataset.csv\"\n",
        "df = pd.read_csv(file_path)"
      ],
      "metadata": {
        "id": "OMsb45bwWhxe"
      },
      "execution_count": null,
      "outputs": []
    },
    {
      "cell_type": "code",
      "source": [
        "print(df.info())  # Check columns, types, and missing values\n",
        "print(df.head())"
      ],
      "metadata": {
        "colab": {
          "base_uri": "https://localhost:8080/"
        },
        "id": "MBjjKs5UWl1d",
        "outputId": "cd69609a-2636-47f8-87df-3fe6cf7f4545"
      },
      "execution_count": null,
      "outputs": [
        {
          "output_type": "stream",
          "name": "stdout",
          "text": [
            "<class 'pandas.core.frame.DataFrame'>\n",
            "RangeIndex: 2918 entries, 0 to 2917\n",
            "Data columns (total 9 columns):\n",
            " #   Column      Non-Null Count  Dtype  \n",
            "---  ------      --------------  -----  \n",
            " 0   Unnamed: 0  2918 non-null   int64  \n",
            " 1   Title       2918 non-null   object \n",
            " 2   Desc        1368 non-null   object \n",
            " 3   Type        2918 non-null   object \n",
            " 4   BodyPart    2918 non-null   object \n",
            " 5   Equipment   2886 non-null   object \n",
            " 6   Level       2918 non-null   object \n",
            " 7   Rating      1031 non-null   float64\n",
            " 8   RatingDesc  862 non-null    object \n",
            "dtypes: float64(1), int64(1), object(7)\n",
            "memory usage: 205.3+ KB\n",
            "None\n",
            "   Unnamed: 0                         Title  \\\n",
            "0           0        Partner plank band row   \n",
            "1           1  Banded crunch isometric hold   \n",
            "2           2         FYR Banded Plank Jack   \n",
            "3           3                 Banded crunch   \n",
            "4           4                        Crunch   \n",
            "\n",
            "                                                Desc      Type    BodyPart  \\\n",
            "0  The partner plank band row is an abdominal exe...  Strength  Abdominals   \n",
            "1  The banded crunch isometric hold is an exercis...  Strength  Abdominals   \n",
            "2  The banded plank jack is a variation on the pl...  Strength  Abdominals   \n",
            "3  The banded crunch is an exercise targeting the...  Strength  Abdominals   \n",
            "4  The crunch is a popular core exercise targetin...  Strength  Abdominals   \n",
            "\n",
            "  Equipment         Level  Rating RatingDesc  \n",
            "0     Bands  Intermediate     0.0        NaN  \n",
            "1     Bands  Intermediate     NaN        NaN  \n",
            "2     Bands  Intermediate     NaN        NaN  \n",
            "3     Bands  Intermediate     NaN        NaN  \n",
            "4     Bands  Intermediate     NaN        NaN  \n"
          ]
        }
      ]
    },
    {
      "cell_type": "code",
      "source": [
        "label_encoders = {}\n",
        "for column in df.select_dtypes(include=['object']).columns:\n",
        "    le = LabelEncoder()\n",
        "    df[column] = le.fit_transform(df[column])\n",
        "    label_encoders[column] = le"
      ],
      "metadata": {
        "id": "EFo5vknGW3wG"
      },
      "execution_count": null,
      "outputs": []
    },
    {
      "cell_type": "code",
      "source": [
        "target_column = 'Type'  # <-- CHANGE THIS based on dataset\n",
        "X = df.drop(columns=[target_column])\n",
        "y = df[target_column]"
      ],
      "metadata": {
        "id": "IAZD3gIAXHnC"
      },
      "execution_count": null,
      "outputs": []
    },
    {
      "cell_type": "code",
      "source": [
        "scaler = StandardScaler()\n",
        "X = scaler.fit_transform(X)"
      ],
      "metadata": {
        "id": "30aBe_HsXKNW"
      },
      "execution_count": null,
      "outputs": []
    },
    {
      "cell_type": "code",
      "source": [
        "X_train, X_test, y_train, y_test = train_test_split(X, y, test_size=0.2, random_state=42)\n"
      ],
      "metadata": {
        "id": "D7Xruul4XMh0"
      },
      "execution_count": null,
      "outputs": []
    },
    {
      "cell_type": "code",
      "source": [
        "model = RandomForestClassifier(n_estimators=100, random_state=42)\n",
        "model.fit(X_train, y_train)"
      ],
      "metadata": {
        "colab": {
          "base_uri": "https://localhost:8080/",
          "height": 80
        },
        "id": "CUTqVtG0XQIi",
        "outputId": "95c1d245-8c7c-43f7-e3fe-8b25d7478a56"
      },
      "execution_count": null,
      "outputs": [
        {
          "output_type": "execute_result",
          "data": {
            "text/plain": [
              "RandomForestClassifier(random_state=42)"
            ],
            "text/html": [
              "<style>#sk-container-id-1 {\n",
              "  /* Definition of color scheme common for light and dark mode */\n",
              "  --sklearn-color-text: #000;\n",
              "  --sklearn-color-text-muted: #666;\n",
              "  --sklearn-color-line: gray;\n",
              "  /* Definition of color scheme for unfitted estimators */\n",
              "  --sklearn-color-unfitted-level-0: #fff5e6;\n",
              "  --sklearn-color-unfitted-level-1: #f6e4d2;\n",
              "  --sklearn-color-unfitted-level-2: #ffe0b3;\n",
              "  --sklearn-color-unfitted-level-3: chocolate;\n",
              "  /* Definition of color scheme for fitted estimators */\n",
              "  --sklearn-color-fitted-level-0: #f0f8ff;\n",
              "  --sklearn-color-fitted-level-1: #d4ebff;\n",
              "  --sklearn-color-fitted-level-2: #b3dbfd;\n",
              "  --sklearn-color-fitted-level-3: cornflowerblue;\n",
              "\n",
              "  /* Specific color for light theme */\n",
              "  --sklearn-color-text-on-default-background: var(--sg-text-color, var(--theme-code-foreground, var(--jp-content-font-color1, black)));\n",
              "  --sklearn-color-background: var(--sg-background-color, var(--theme-background, var(--jp-layout-color0, white)));\n",
              "  --sklearn-color-border-box: var(--sg-text-color, var(--theme-code-foreground, var(--jp-content-font-color1, black)));\n",
              "  --sklearn-color-icon: #696969;\n",
              "\n",
              "  @media (prefers-color-scheme: dark) {\n",
              "    /* Redefinition of color scheme for dark theme */\n",
              "    --sklearn-color-text-on-default-background: var(--sg-text-color, var(--theme-code-foreground, var(--jp-content-font-color1, white)));\n",
              "    --sklearn-color-background: var(--sg-background-color, var(--theme-background, var(--jp-layout-color0, #111)));\n",
              "    --sklearn-color-border-box: var(--sg-text-color, var(--theme-code-foreground, var(--jp-content-font-color1, white)));\n",
              "    --sklearn-color-icon: #878787;\n",
              "  }\n",
              "}\n",
              "\n",
              "#sk-container-id-1 {\n",
              "  color: var(--sklearn-color-text);\n",
              "}\n",
              "\n",
              "#sk-container-id-1 pre {\n",
              "  padding: 0;\n",
              "}\n",
              "\n",
              "#sk-container-id-1 input.sk-hidden--visually {\n",
              "  border: 0;\n",
              "  clip: rect(1px 1px 1px 1px);\n",
              "  clip: rect(1px, 1px, 1px, 1px);\n",
              "  height: 1px;\n",
              "  margin: -1px;\n",
              "  overflow: hidden;\n",
              "  padding: 0;\n",
              "  position: absolute;\n",
              "  width: 1px;\n",
              "}\n",
              "\n",
              "#sk-container-id-1 div.sk-dashed-wrapped {\n",
              "  border: 1px dashed var(--sklearn-color-line);\n",
              "  margin: 0 0.4em 0.5em 0.4em;\n",
              "  box-sizing: border-box;\n",
              "  padding-bottom: 0.4em;\n",
              "  background-color: var(--sklearn-color-background);\n",
              "}\n",
              "\n",
              "#sk-container-id-1 div.sk-container {\n",
              "  /* jupyter's `normalize.less` sets `[hidden] { display: none; }`\n",
              "     but bootstrap.min.css set `[hidden] { display: none !important; }`\n",
              "     so we also need the `!important` here to be able to override the\n",
              "     default hidden behavior on the sphinx rendered scikit-learn.org.\n",
              "     See: https://github.com/scikit-learn/scikit-learn/issues/21755 */\n",
              "  display: inline-block !important;\n",
              "  position: relative;\n",
              "}\n",
              "\n",
              "#sk-container-id-1 div.sk-text-repr-fallback {\n",
              "  display: none;\n",
              "}\n",
              "\n",
              "div.sk-parallel-item,\n",
              "div.sk-serial,\n",
              "div.sk-item {\n",
              "  /* draw centered vertical line to link estimators */\n",
              "  background-image: linear-gradient(var(--sklearn-color-text-on-default-background), var(--sklearn-color-text-on-default-background));\n",
              "  background-size: 2px 100%;\n",
              "  background-repeat: no-repeat;\n",
              "  background-position: center center;\n",
              "}\n",
              "\n",
              "/* Parallel-specific style estimator block */\n",
              "\n",
              "#sk-container-id-1 div.sk-parallel-item::after {\n",
              "  content: \"\";\n",
              "  width: 100%;\n",
              "  border-bottom: 2px solid var(--sklearn-color-text-on-default-background);\n",
              "  flex-grow: 1;\n",
              "}\n",
              "\n",
              "#sk-container-id-1 div.sk-parallel {\n",
              "  display: flex;\n",
              "  align-items: stretch;\n",
              "  justify-content: center;\n",
              "  background-color: var(--sklearn-color-background);\n",
              "  position: relative;\n",
              "}\n",
              "\n",
              "#sk-container-id-1 div.sk-parallel-item {\n",
              "  display: flex;\n",
              "  flex-direction: column;\n",
              "}\n",
              "\n",
              "#sk-container-id-1 div.sk-parallel-item:first-child::after {\n",
              "  align-self: flex-end;\n",
              "  width: 50%;\n",
              "}\n",
              "\n",
              "#sk-container-id-1 div.sk-parallel-item:last-child::after {\n",
              "  align-self: flex-start;\n",
              "  width: 50%;\n",
              "}\n",
              "\n",
              "#sk-container-id-1 div.sk-parallel-item:only-child::after {\n",
              "  width: 0;\n",
              "}\n",
              "\n",
              "/* Serial-specific style estimator block */\n",
              "\n",
              "#sk-container-id-1 div.sk-serial {\n",
              "  display: flex;\n",
              "  flex-direction: column;\n",
              "  align-items: center;\n",
              "  background-color: var(--sklearn-color-background);\n",
              "  padding-right: 1em;\n",
              "  padding-left: 1em;\n",
              "}\n",
              "\n",
              "\n",
              "/* Toggleable style: style used for estimator/Pipeline/ColumnTransformer box that is\n",
              "clickable and can be expanded/collapsed.\n",
              "- Pipeline and ColumnTransformer use this feature and define the default style\n",
              "- Estimators will overwrite some part of the style using the `sk-estimator` class\n",
              "*/\n",
              "\n",
              "/* Pipeline and ColumnTransformer style (default) */\n",
              "\n",
              "#sk-container-id-1 div.sk-toggleable {\n",
              "  /* Default theme specific background. It is overwritten whether we have a\n",
              "  specific estimator or a Pipeline/ColumnTransformer */\n",
              "  background-color: var(--sklearn-color-background);\n",
              "}\n",
              "\n",
              "/* Toggleable label */\n",
              "#sk-container-id-1 label.sk-toggleable__label {\n",
              "  cursor: pointer;\n",
              "  display: flex;\n",
              "  width: 100%;\n",
              "  margin-bottom: 0;\n",
              "  padding: 0.5em;\n",
              "  box-sizing: border-box;\n",
              "  text-align: center;\n",
              "  align-items: start;\n",
              "  justify-content: space-between;\n",
              "  gap: 0.5em;\n",
              "}\n",
              "\n",
              "#sk-container-id-1 label.sk-toggleable__label .caption {\n",
              "  font-size: 0.6rem;\n",
              "  font-weight: lighter;\n",
              "  color: var(--sklearn-color-text-muted);\n",
              "}\n",
              "\n",
              "#sk-container-id-1 label.sk-toggleable__label-arrow:before {\n",
              "  /* Arrow on the left of the label */\n",
              "  content: \"▸\";\n",
              "  float: left;\n",
              "  margin-right: 0.25em;\n",
              "  color: var(--sklearn-color-icon);\n",
              "}\n",
              "\n",
              "#sk-container-id-1 label.sk-toggleable__label-arrow:hover:before {\n",
              "  color: var(--sklearn-color-text);\n",
              "}\n",
              "\n",
              "/* Toggleable content - dropdown */\n",
              "\n",
              "#sk-container-id-1 div.sk-toggleable__content {\n",
              "  max-height: 0;\n",
              "  max-width: 0;\n",
              "  overflow: hidden;\n",
              "  text-align: left;\n",
              "  /* unfitted */\n",
              "  background-color: var(--sklearn-color-unfitted-level-0);\n",
              "}\n",
              "\n",
              "#sk-container-id-1 div.sk-toggleable__content.fitted {\n",
              "  /* fitted */\n",
              "  background-color: var(--sklearn-color-fitted-level-0);\n",
              "}\n",
              "\n",
              "#sk-container-id-1 div.sk-toggleable__content pre {\n",
              "  margin: 0.2em;\n",
              "  border-radius: 0.25em;\n",
              "  color: var(--sklearn-color-text);\n",
              "  /* unfitted */\n",
              "  background-color: var(--sklearn-color-unfitted-level-0);\n",
              "}\n",
              "\n",
              "#sk-container-id-1 div.sk-toggleable__content.fitted pre {\n",
              "  /* unfitted */\n",
              "  background-color: var(--sklearn-color-fitted-level-0);\n",
              "}\n",
              "\n",
              "#sk-container-id-1 input.sk-toggleable__control:checked~div.sk-toggleable__content {\n",
              "  /* Expand drop-down */\n",
              "  max-height: 200px;\n",
              "  max-width: 100%;\n",
              "  overflow: auto;\n",
              "}\n",
              "\n",
              "#sk-container-id-1 input.sk-toggleable__control:checked~label.sk-toggleable__label-arrow:before {\n",
              "  content: \"▾\";\n",
              "}\n",
              "\n",
              "/* Pipeline/ColumnTransformer-specific style */\n",
              "\n",
              "#sk-container-id-1 div.sk-label input.sk-toggleable__control:checked~label.sk-toggleable__label {\n",
              "  color: var(--sklearn-color-text);\n",
              "  background-color: var(--sklearn-color-unfitted-level-2);\n",
              "}\n",
              "\n",
              "#sk-container-id-1 div.sk-label.fitted input.sk-toggleable__control:checked~label.sk-toggleable__label {\n",
              "  background-color: var(--sklearn-color-fitted-level-2);\n",
              "}\n",
              "\n",
              "/* Estimator-specific style */\n",
              "\n",
              "/* Colorize estimator box */\n",
              "#sk-container-id-1 div.sk-estimator input.sk-toggleable__control:checked~label.sk-toggleable__label {\n",
              "  /* unfitted */\n",
              "  background-color: var(--sklearn-color-unfitted-level-2);\n",
              "}\n",
              "\n",
              "#sk-container-id-1 div.sk-estimator.fitted input.sk-toggleable__control:checked~label.sk-toggleable__label {\n",
              "  /* fitted */\n",
              "  background-color: var(--sklearn-color-fitted-level-2);\n",
              "}\n",
              "\n",
              "#sk-container-id-1 div.sk-label label.sk-toggleable__label,\n",
              "#sk-container-id-1 div.sk-label label {\n",
              "  /* The background is the default theme color */\n",
              "  color: var(--sklearn-color-text-on-default-background);\n",
              "}\n",
              "\n",
              "/* On hover, darken the color of the background */\n",
              "#sk-container-id-1 div.sk-label:hover label.sk-toggleable__label {\n",
              "  color: var(--sklearn-color-text);\n",
              "  background-color: var(--sklearn-color-unfitted-level-2);\n",
              "}\n",
              "\n",
              "/* Label box, darken color on hover, fitted */\n",
              "#sk-container-id-1 div.sk-label.fitted:hover label.sk-toggleable__label.fitted {\n",
              "  color: var(--sklearn-color-text);\n",
              "  background-color: var(--sklearn-color-fitted-level-2);\n",
              "}\n",
              "\n",
              "/* Estimator label */\n",
              "\n",
              "#sk-container-id-1 div.sk-label label {\n",
              "  font-family: monospace;\n",
              "  font-weight: bold;\n",
              "  display: inline-block;\n",
              "  line-height: 1.2em;\n",
              "}\n",
              "\n",
              "#sk-container-id-1 div.sk-label-container {\n",
              "  text-align: center;\n",
              "}\n",
              "\n",
              "/* Estimator-specific */\n",
              "#sk-container-id-1 div.sk-estimator {\n",
              "  font-family: monospace;\n",
              "  border: 1px dotted var(--sklearn-color-border-box);\n",
              "  border-radius: 0.25em;\n",
              "  box-sizing: border-box;\n",
              "  margin-bottom: 0.5em;\n",
              "  /* unfitted */\n",
              "  background-color: var(--sklearn-color-unfitted-level-0);\n",
              "}\n",
              "\n",
              "#sk-container-id-1 div.sk-estimator.fitted {\n",
              "  /* fitted */\n",
              "  background-color: var(--sklearn-color-fitted-level-0);\n",
              "}\n",
              "\n",
              "/* on hover */\n",
              "#sk-container-id-1 div.sk-estimator:hover {\n",
              "  /* unfitted */\n",
              "  background-color: var(--sklearn-color-unfitted-level-2);\n",
              "}\n",
              "\n",
              "#sk-container-id-1 div.sk-estimator.fitted:hover {\n",
              "  /* fitted */\n",
              "  background-color: var(--sklearn-color-fitted-level-2);\n",
              "}\n",
              "\n",
              "/* Specification for estimator info (e.g. \"i\" and \"?\") */\n",
              "\n",
              "/* Common style for \"i\" and \"?\" */\n",
              "\n",
              ".sk-estimator-doc-link,\n",
              "a:link.sk-estimator-doc-link,\n",
              "a:visited.sk-estimator-doc-link {\n",
              "  float: right;\n",
              "  font-size: smaller;\n",
              "  line-height: 1em;\n",
              "  font-family: monospace;\n",
              "  background-color: var(--sklearn-color-background);\n",
              "  border-radius: 1em;\n",
              "  height: 1em;\n",
              "  width: 1em;\n",
              "  text-decoration: none !important;\n",
              "  margin-left: 0.5em;\n",
              "  text-align: center;\n",
              "  /* unfitted */\n",
              "  border: var(--sklearn-color-unfitted-level-1) 1pt solid;\n",
              "  color: var(--sklearn-color-unfitted-level-1);\n",
              "}\n",
              "\n",
              ".sk-estimator-doc-link.fitted,\n",
              "a:link.sk-estimator-doc-link.fitted,\n",
              "a:visited.sk-estimator-doc-link.fitted {\n",
              "  /* fitted */\n",
              "  border: var(--sklearn-color-fitted-level-1) 1pt solid;\n",
              "  color: var(--sklearn-color-fitted-level-1);\n",
              "}\n",
              "\n",
              "/* On hover */\n",
              "div.sk-estimator:hover .sk-estimator-doc-link:hover,\n",
              ".sk-estimator-doc-link:hover,\n",
              "div.sk-label-container:hover .sk-estimator-doc-link:hover,\n",
              ".sk-estimator-doc-link:hover {\n",
              "  /* unfitted */\n",
              "  background-color: var(--sklearn-color-unfitted-level-3);\n",
              "  color: var(--sklearn-color-background);\n",
              "  text-decoration: none;\n",
              "}\n",
              "\n",
              "div.sk-estimator.fitted:hover .sk-estimator-doc-link.fitted:hover,\n",
              ".sk-estimator-doc-link.fitted:hover,\n",
              "div.sk-label-container:hover .sk-estimator-doc-link.fitted:hover,\n",
              ".sk-estimator-doc-link.fitted:hover {\n",
              "  /* fitted */\n",
              "  background-color: var(--sklearn-color-fitted-level-3);\n",
              "  color: var(--sklearn-color-background);\n",
              "  text-decoration: none;\n",
              "}\n",
              "\n",
              "/* Span, style for the box shown on hovering the info icon */\n",
              ".sk-estimator-doc-link span {\n",
              "  display: none;\n",
              "  z-index: 9999;\n",
              "  position: relative;\n",
              "  font-weight: normal;\n",
              "  right: .2ex;\n",
              "  padding: .5ex;\n",
              "  margin: .5ex;\n",
              "  width: min-content;\n",
              "  min-width: 20ex;\n",
              "  max-width: 50ex;\n",
              "  color: var(--sklearn-color-text);\n",
              "  box-shadow: 2pt 2pt 4pt #999;\n",
              "  /* unfitted */\n",
              "  background: var(--sklearn-color-unfitted-level-0);\n",
              "  border: .5pt solid var(--sklearn-color-unfitted-level-3);\n",
              "}\n",
              "\n",
              ".sk-estimator-doc-link.fitted span {\n",
              "  /* fitted */\n",
              "  background: var(--sklearn-color-fitted-level-0);\n",
              "  border: var(--sklearn-color-fitted-level-3);\n",
              "}\n",
              "\n",
              ".sk-estimator-doc-link:hover span {\n",
              "  display: block;\n",
              "}\n",
              "\n",
              "/* \"?\"-specific style due to the `<a>` HTML tag */\n",
              "\n",
              "#sk-container-id-1 a.estimator_doc_link {\n",
              "  float: right;\n",
              "  font-size: 1rem;\n",
              "  line-height: 1em;\n",
              "  font-family: monospace;\n",
              "  background-color: var(--sklearn-color-background);\n",
              "  border-radius: 1rem;\n",
              "  height: 1rem;\n",
              "  width: 1rem;\n",
              "  text-decoration: none;\n",
              "  /* unfitted */\n",
              "  color: var(--sklearn-color-unfitted-level-1);\n",
              "  border: var(--sklearn-color-unfitted-level-1) 1pt solid;\n",
              "}\n",
              "\n",
              "#sk-container-id-1 a.estimator_doc_link.fitted {\n",
              "  /* fitted */\n",
              "  border: var(--sklearn-color-fitted-level-1) 1pt solid;\n",
              "  color: var(--sklearn-color-fitted-level-1);\n",
              "}\n",
              "\n",
              "/* On hover */\n",
              "#sk-container-id-1 a.estimator_doc_link:hover {\n",
              "  /* unfitted */\n",
              "  background-color: var(--sklearn-color-unfitted-level-3);\n",
              "  color: var(--sklearn-color-background);\n",
              "  text-decoration: none;\n",
              "}\n",
              "\n",
              "#sk-container-id-1 a.estimator_doc_link.fitted:hover {\n",
              "  /* fitted */\n",
              "  background-color: var(--sklearn-color-fitted-level-3);\n",
              "}\n",
              "</style><div id=\"sk-container-id-1\" class=\"sk-top-container\"><div class=\"sk-text-repr-fallback\"><pre>RandomForestClassifier(random_state=42)</pre><b>In a Jupyter environment, please rerun this cell to show the HTML representation or trust the notebook. <br />On GitHub, the HTML representation is unable to render, please try loading this page with nbviewer.org.</b></div><div class=\"sk-container\" hidden><div class=\"sk-item\"><div class=\"sk-estimator fitted sk-toggleable\"><input class=\"sk-toggleable__control sk-hidden--visually\" id=\"sk-estimator-id-1\" type=\"checkbox\" checked><label for=\"sk-estimator-id-1\" class=\"sk-toggleable__label fitted sk-toggleable__label-arrow\"><div><div>RandomForestClassifier</div></div><div><a class=\"sk-estimator-doc-link fitted\" rel=\"noreferrer\" target=\"_blank\" href=\"https://scikit-learn.org/1.6/modules/generated/sklearn.ensemble.RandomForestClassifier.html\">?<span>Documentation for RandomForestClassifier</span></a><span class=\"sk-estimator-doc-link fitted\">i<span>Fitted</span></span></div></label><div class=\"sk-toggleable__content fitted\"><pre>RandomForestClassifier(random_state=42)</pre></div> </div></div></div></div>"
            ]
          },
          "metadata": {},
          "execution_count": 56
        }
      ]
    },
    {
      "cell_type": "code",
      "source": [
        "y_pred = model.predict(X_test)"
      ],
      "metadata": {
        "id": "i9I8LTtmXVvZ"
      },
      "execution_count": null,
      "outputs": []
    },
    {
      "cell_type": "code",
      "source": [
        "accuracy = accuracy_score(y_test, y_pred)\n",
        "print(f\"Accuracy: {accuracy:.2f}\")\n",
        "print(classification_report(y_test, y_pred))"
      ],
      "metadata": {
        "colab": {
          "base_uri": "https://localhost:8080/"
        },
        "id": "wIRnh2OMXZvO",
        "outputId": "245baff7-fe5c-4f10-a403-011fc3683a3e"
      },
      "execution_count": null,
      "outputs": [
        {
          "output_type": "stream",
          "name": "stdout",
          "text": [
            "Accuracy: 0.92\n",
            "              precision    recall  f1-score   support\n",
            "\n",
            "           0       0.67      0.25      0.36         8\n",
            "           1       0.25      0.25      0.25         4\n",
            "           2       0.38      0.36      0.37        14\n",
            "           3       0.50      0.33      0.40         6\n",
            "           4       0.95      0.98      0.96       518\n",
            "           5       0.78      0.68      0.72        31\n",
            "           6       0.00      0.00      0.00         3\n",
            "\n",
            "    accuracy                           0.92       584\n",
            "   macro avg       0.50      0.41      0.44       584\n",
            "weighted avg       0.91      0.92      0.91       584\n",
            "\n"
          ]
        },
        {
          "output_type": "stream",
          "name": "stderr",
          "text": [
            "/usr/local/lib/python3.11/dist-packages/sklearn/metrics/_classification.py:1565: UndefinedMetricWarning: Precision is ill-defined and being set to 0.0 in labels with no predicted samples. Use `zero_division` parameter to control this behavior.\n",
            "  _warn_prf(average, modifier, f\"{metric.capitalize()} is\", len(result))\n",
            "/usr/local/lib/python3.11/dist-packages/sklearn/metrics/_classification.py:1565: UndefinedMetricWarning: Precision is ill-defined and being set to 0.0 in labels with no predicted samples. Use `zero_division` parameter to control this behavior.\n",
            "  _warn_prf(average, modifier, f\"{metric.capitalize()} is\", len(result))\n",
            "/usr/local/lib/python3.11/dist-packages/sklearn/metrics/_classification.py:1565: UndefinedMetricWarning: Precision is ill-defined and being set to 0.0 in labels with no predicted samples. Use `zero_division` parameter to control this behavior.\n",
            "  _warn_prf(average, modifier, f\"{metric.capitalize()} is\", len(result))\n"
          ]
        }
      ]
    },
    {
      "cell_type": "code",
      "source": [
        "from google.colab import drive\n",
        "import pandas as pd\n",
        "import numpy as np\n",
        "from sklearn.model_selection import train_test_split\n",
        "from sklearn.ensemble import RandomForestClassifier\n",
        "from sklearn.preprocessing import LabelEncoder"
      ],
      "metadata": {
        "id": "7eZZG7hVYQGo"
      },
      "execution_count": null,
      "outputs": []
    },
    {
      "cell_type": "code",
      "source": [
        "drive.mount('/content/drive')"
      ],
      "metadata": {
        "colab": {
          "base_uri": "https://localhost:8080/"
        },
        "id": "lzUF0xgHYRmU",
        "outputId": "fc6b4719-7fc3-4dbd-9920-714b6ae502fb"
      },
      "execution_count": null,
      "outputs": [
        {
          "output_type": "stream",
          "name": "stdout",
          "text": [
            "Drive already mounted at /content/drive; to attempt to forcibly remount, call drive.mount(\"/content/drive\", force_remount=True).\n"
          ]
        }
      ]
    },
    {
      "cell_type": "code",
      "source": [
        "file_path = \"/content/drive/My Drive/122Colab/megaGymDataset.csv\"\n",
        "df = pd.read_csv(file_path)"
      ],
      "metadata": {
        "id": "FzlUJawIYVwb"
      },
      "execution_count": null,
      "outputs": []
    },
    {
      "cell_type": "code",
      "source": [
        "print(df.info())\n",
        "print(df.head())"
      ],
      "metadata": {
        "colab": {
          "base_uri": "https://localhost:8080/"
        },
        "id": "DXq2fhTdYYDT",
        "outputId": "6fb034e6-fc24-43b5-e3d5-c410affc3903"
      },
      "execution_count": null,
      "outputs": [
        {
          "output_type": "stream",
          "name": "stdout",
          "text": [
            "<class 'pandas.core.frame.DataFrame'>\n",
            "RangeIndex: 2918 entries, 0 to 2917\n",
            "Data columns (total 9 columns):\n",
            " #   Column      Non-Null Count  Dtype  \n",
            "---  ------      --------------  -----  \n",
            " 0   Unnamed: 0  2918 non-null   int64  \n",
            " 1   Title       2918 non-null   object \n",
            " 2   Desc        1368 non-null   object \n",
            " 3   Type        2918 non-null   object \n",
            " 4   BodyPart    2918 non-null   object \n",
            " 5   Equipment   2886 non-null   object \n",
            " 6   Level       2918 non-null   object \n",
            " 7   Rating      1031 non-null   float64\n",
            " 8   RatingDesc  862 non-null    object \n",
            "dtypes: float64(1), int64(1), object(7)\n",
            "memory usage: 205.3+ KB\n",
            "None\n",
            "   Unnamed: 0                         Title  \\\n",
            "0           0        Partner plank band row   \n",
            "1           1  Banded crunch isometric hold   \n",
            "2           2         FYR Banded Plank Jack   \n",
            "3           3                 Banded crunch   \n",
            "4           4                        Crunch   \n",
            "\n",
            "                                                Desc      Type    BodyPart  \\\n",
            "0  The partner plank band row is an abdominal exe...  Strength  Abdominals   \n",
            "1  The banded crunch isometric hold is an exercis...  Strength  Abdominals   \n",
            "2  The banded plank jack is a variation on the pl...  Strength  Abdominals   \n",
            "3  The banded crunch is an exercise targeting the...  Strength  Abdominals   \n",
            "4  The crunch is a popular core exercise targetin...  Strength  Abdominals   \n",
            "\n",
            "  Equipment         Level  Rating RatingDesc  \n",
            "0     Bands  Intermediate     0.0        NaN  \n",
            "1     Bands  Intermediate     NaN        NaN  \n",
            "2     Bands  Intermediate     NaN        NaN  \n",
            "3     Bands  Intermediate     NaN        NaN  \n",
            "4     Bands  Intermediate     NaN        NaN  \n"
          ]
        }
      ]
    },
    {
      "cell_type": "code",
      "source": [
        "print(df.info())\n",
        "print(df.head())"
      ],
      "metadata": {
        "colab": {
          "base_uri": "https://localhost:8080/"
        },
        "id": "GhgbWjpMZAW6",
        "outputId": "b3529ae6-8bd2-4bd1-8228-bed50a636934"
      },
      "execution_count": null,
      "outputs": [
        {
          "output_type": "stream",
          "name": "stdout",
          "text": [
            "<class 'pandas.core.frame.DataFrame'>\n",
            "RangeIndex: 2918 entries, 0 to 2917\n",
            "Data columns (total 9 columns):\n",
            " #   Column      Non-Null Count  Dtype  \n",
            "---  ------      --------------  -----  \n",
            " 0   Unnamed: 0  2918 non-null   int64  \n",
            " 1   Title       2918 non-null   object \n",
            " 2   Desc        1368 non-null   object \n",
            " 3   Type        2918 non-null   int64  \n",
            " 4   BodyPart    2918 non-null   object \n",
            " 5   Equipment   2918 non-null   int64  \n",
            " 6   Level       2918 non-null   object \n",
            " 7   Rating      1031 non-null   float64\n",
            " 8   RatingDesc  862 non-null    object \n",
            "dtypes: float64(1), int64(3), object(5)\n",
            "memory usage: 205.3+ KB\n",
            "None\n",
            "   Unnamed: 0                         Title  \\\n",
            "0           0        Partner plank band row   \n",
            "1           1  Banded crunch isometric hold   \n",
            "2           2         FYR Banded Plank Jack   \n",
            "3           3                 Banded crunch   \n",
            "4           4                        Crunch   \n",
            "\n",
            "                                                Desc  Type    BodyPart  \\\n",
            "0  The partner plank band row is an abdominal exe...     4  Abdominals   \n",
            "1  The banded crunch isometric hold is an exercis...     4  Abdominals   \n",
            "2  The banded plank jack is a variation on the pl...     4  Abdominals   \n",
            "3  The banded crunch is an exercise targeting the...     4  Abdominals   \n",
            "4  The crunch is a popular core exercise targetin...     4  Abdominals   \n",
            "\n",
            "   Equipment         Level  Rating RatingDesc  \n",
            "0          0  Intermediate     0.0        NaN  \n",
            "1          0  Intermediate     NaN        NaN  \n",
            "2          0  Intermediate     NaN        NaN  \n",
            "3          0  Intermediate     NaN        NaN  \n",
            "4          0  Intermediate     NaN        NaN  \n"
          ]
        }
      ]
    },
    {
      "cell_type": "code",
      "source": [
        "le_bodypart = LabelEncoder()\n",
        "le_type = LabelEncoder()\n",
        "le_level = LabelEncoder()\n",
        "le_equipment = LabelEncoder()"
      ],
      "metadata": {
        "id": "El-fNeTlZr-7"
      },
      "execution_count": null,
      "outputs": []
    },
    {
      "cell_type": "code",
      "source": [
        "df['BodyPart'] = le_bodypart.fit_transform(df['BodyPart'])\n",
        "df['Type'] = le_type.fit_transform(df['Type'])\n",
        "df['Level'] = le_level.fit_transform(df['Level'])\n",
        "df['Equipment'] = le_equipment.fit_transform(df['Equipment'])"
      ],
      "metadata": {
        "id": "XPR0Q6adZtAs"
      },
      "execution_count": null,
      "outputs": []
    },
    {
      "cell_type": "code",
      "source": [
        "X = df[['BodyPart', 'Type', 'Level']]  # Input Features\n",
        "y = df['Equipment']"
      ],
      "metadata": {
        "id": "ZnCg__HqaiIz"
      },
      "execution_count": null,
      "outputs": []
    },
    {
      "cell_type": "code",
      "source": [
        "X_train, X_test, y_train, y_test = train_test_split(X, y, test_size=0.2, random_state=42)\n"
      ],
      "metadata": {
        "id": "Jxk2366YakQ_"
      },
      "execution_count": null,
      "outputs": []
    },
    {
      "cell_type": "code",
      "source": [
        "model = RandomForestClassifier(n_estimators=100, random_state=42)\n",
        "model.fit(X_train, y_train)"
      ],
      "metadata": {
        "colab": {
          "base_uri": "https://localhost:8080/",
          "height": 80
        },
        "id": "e8GmxGG6amkH",
        "outputId": "48efe827-93e1-43b1-e2da-e587b7198d1c"
      },
      "execution_count": null,
      "outputs": [
        {
          "output_type": "execute_result",
          "data": {
            "text/plain": [
              "RandomForestClassifier(random_state=42)"
            ],
            "text/html": [
              "<style>#sk-container-id-2 {\n",
              "  /* Definition of color scheme common for light and dark mode */\n",
              "  --sklearn-color-text: #000;\n",
              "  --sklearn-color-text-muted: #666;\n",
              "  --sklearn-color-line: gray;\n",
              "  /* Definition of color scheme for unfitted estimators */\n",
              "  --sklearn-color-unfitted-level-0: #fff5e6;\n",
              "  --sklearn-color-unfitted-level-1: #f6e4d2;\n",
              "  --sklearn-color-unfitted-level-2: #ffe0b3;\n",
              "  --sklearn-color-unfitted-level-3: chocolate;\n",
              "  /* Definition of color scheme for fitted estimators */\n",
              "  --sklearn-color-fitted-level-0: #f0f8ff;\n",
              "  --sklearn-color-fitted-level-1: #d4ebff;\n",
              "  --sklearn-color-fitted-level-2: #b3dbfd;\n",
              "  --sklearn-color-fitted-level-3: cornflowerblue;\n",
              "\n",
              "  /* Specific color for light theme */\n",
              "  --sklearn-color-text-on-default-background: var(--sg-text-color, var(--theme-code-foreground, var(--jp-content-font-color1, black)));\n",
              "  --sklearn-color-background: var(--sg-background-color, var(--theme-background, var(--jp-layout-color0, white)));\n",
              "  --sklearn-color-border-box: var(--sg-text-color, var(--theme-code-foreground, var(--jp-content-font-color1, black)));\n",
              "  --sklearn-color-icon: #696969;\n",
              "\n",
              "  @media (prefers-color-scheme: dark) {\n",
              "    /* Redefinition of color scheme for dark theme */\n",
              "    --sklearn-color-text-on-default-background: var(--sg-text-color, var(--theme-code-foreground, var(--jp-content-font-color1, white)));\n",
              "    --sklearn-color-background: var(--sg-background-color, var(--theme-background, var(--jp-layout-color0, #111)));\n",
              "    --sklearn-color-border-box: var(--sg-text-color, var(--theme-code-foreground, var(--jp-content-font-color1, white)));\n",
              "    --sklearn-color-icon: #878787;\n",
              "  }\n",
              "}\n",
              "\n",
              "#sk-container-id-2 {\n",
              "  color: var(--sklearn-color-text);\n",
              "}\n",
              "\n",
              "#sk-container-id-2 pre {\n",
              "  padding: 0;\n",
              "}\n",
              "\n",
              "#sk-container-id-2 input.sk-hidden--visually {\n",
              "  border: 0;\n",
              "  clip: rect(1px 1px 1px 1px);\n",
              "  clip: rect(1px, 1px, 1px, 1px);\n",
              "  height: 1px;\n",
              "  margin: -1px;\n",
              "  overflow: hidden;\n",
              "  padding: 0;\n",
              "  position: absolute;\n",
              "  width: 1px;\n",
              "}\n",
              "\n",
              "#sk-container-id-2 div.sk-dashed-wrapped {\n",
              "  border: 1px dashed var(--sklearn-color-line);\n",
              "  margin: 0 0.4em 0.5em 0.4em;\n",
              "  box-sizing: border-box;\n",
              "  padding-bottom: 0.4em;\n",
              "  background-color: var(--sklearn-color-background);\n",
              "}\n",
              "\n",
              "#sk-container-id-2 div.sk-container {\n",
              "  /* jupyter's `normalize.less` sets `[hidden] { display: none; }`\n",
              "     but bootstrap.min.css set `[hidden] { display: none !important; }`\n",
              "     so we also need the `!important` here to be able to override the\n",
              "     default hidden behavior on the sphinx rendered scikit-learn.org.\n",
              "     See: https://github.com/scikit-learn/scikit-learn/issues/21755 */\n",
              "  display: inline-block !important;\n",
              "  position: relative;\n",
              "}\n",
              "\n",
              "#sk-container-id-2 div.sk-text-repr-fallback {\n",
              "  display: none;\n",
              "}\n",
              "\n",
              "div.sk-parallel-item,\n",
              "div.sk-serial,\n",
              "div.sk-item {\n",
              "  /* draw centered vertical line to link estimators */\n",
              "  background-image: linear-gradient(var(--sklearn-color-text-on-default-background), var(--sklearn-color-text-on-default-background));\n",
              "  background-size: 2px 100%;\n",
              "  background-repeat: no-repeat;\n",
              "  background-position: center center;\n",
              "}\n",
              "\n",
              "/* Parallel-specific style estimator block */\n",
              "\n",
              "#sk-container-id-2 div.sk-parallel-item::after {\n",
              "  content: \"\";\n",
              "  width: 100%;\n",
              "  border-bottom: 2px solid var(--sklearn-color-text-on-default-background);\n",
              "  flex-grow: 1;\n",
              "}\n",
              "\n",
              "#sk-container-id-2 div.sk-parallel {\n",
              "  display: flex;\n",
              "  align-items: stretch;\n",
              "  justify-content: center;\n",
              "  background-color: var(--sklearn-color-background);\n",
              "  position: relative;\n",
              "}\n",
              "\n",
              "#sk-container-id-2 div.sk-parallel-item {\n",
              "  display: flex;\n",
              "  flex-direction: column;\n",
              "}\n",
              "\n",
              "#sk-container-id-2 div.sk-parallel-item:first-child::after {\n",
              "  align-self: flex-end;\n",
              "  width: 50%;\n",
              "}\n",
              "\n",
              "#sk-container-id-2 div.sk-parallel-item:last-child::after {\n",
              "  align-self: flex-start;\n",
              "  width: 50%;\n",
              "}\n",
              "\n",
              "#sk-container-id-2 div.sk-parallel-item:only-child::after {\n",
              "  width: 0;\n",
              "}\n",
              "\n",
              "/* Serial-specific style estimator block */\n",
              "\n",
              "#sk-container-id-2 div.sk-serial {\n",
              "  display: flex;\n",
              "  flex-direction: column;\n",
              "  align-items: center;\n",
              "  background-color: var(--sklearn-color-background);\n",
              "  padding-right: 1em;\n",
              "  padding-left: 1em;\n",
              "}\n",
              "\n",
              "\n",
              "/* Toggleable style: style used for estimator/Pipeline/ColumnTransformer box that is\n",
              "clickable and can be expanded/collapsed.\n",
              "- Pipeline and ColumnTransformer use this feature and define the default style\n",
              "- Estimators will overwrite some part of the style using the `sk-estimator` class\n",
              "*/\n",
              "\n",
              "/* Pipeline and ColumnTransformer style (default) */\n",
              "\n",
              "#sk-container-id-2 div.sk-toggleable {\n",
              "  /* Default theme specific background. It is overwritten whether we have a\n",
              "  specific estimator or a Pipeline/ColumnTransformer */\n",
              "  background-color: var(--sklearn-color-background);\n",
              "}\n",
              "\n",
              "/* Toggleable label */\n",
              "#sk-container-id-2 label.sk-toggleable__label {\n",
              "  cursor: pointer;\n",
              "  display: flex;\n",
              "  width: 100%;\n",
              "  margin-bottom: 0;\n",
              "  padding: 0.5em;\n",
              "  box-sizing: border-box;\n",
              "  text-align: center;\n",
              "  align-items: start;\n",
              "  justify-content: space-between;\n",
              "  gap: 0.5em;\n",
              "}\n",
              "\n",
              "#sk-container-id-2 label.sk-toggleable__label .caption {\n",
              "  font-size: 0.6rem;\n",
              "  font-weight: lighter;\n",
              "  color: var(--sklearn-color-text-muted);\n",
              "}\n",
              "\n",
              "#sk-container-id-2 label.sk-toggleable__label-arrow:before {\n",
              "  /* Arrow on the left of the label */\n",
              "  content: \"▸\";\n",
              "  float: left;\n",
              "  margin-right: 0.25em;\n",
              "  color: var(--sklearn-color-icon);\n",
              "}\n",
              "\n",
              "#sk-container-id-2 label.sk-toggleable__label-arrow:hover:before {\n",
              "  color: var(--sklearn-color-text);\n",
              "}\n",
              "\n",
              "/* Toggleable content - dropdown */\n",
              "\n",
              "#sk-container-id-2 div.sk-toggleable__content {\n",
              "  max-height: 0;\n",
              "  max-width: 0;\n",
              "  overflow: hidden;\n",
              "  text-align: left;\n",
              "  /* unfitted */\n",
              "  background-color: var(--sklearn-color-unfitted-level-0);\n",
              "}\n",
              "\n",
              "#sk-container-id-2 div.sk-toggleable__content.fitted {\n",
              "  /* fitted */\n",
              "  background-color: var(--sklearn-color-fitted-level-0);\n",
              "}\n",
              "\n",
              "#sk-container-id-2 div.sk-toggleable__content pre {\n",
              "  margin: 0.2em;\n",
              "  border-radius: 0.25em;\n",
              "  color: var(--sklearn-color-text);\n",
              "  /* unfitted */\n",
              "  background-color: var(--sklearn-color-unfitted-level-0);\n",
              "}\n",
              "\n",
              "#sk-container-id-2 div.sk-toggleable__content.fitted pre {\n",
              "  /* unfitted */\n",
              "  background-color: var(--sklearn-color-fitted-level-0);\n",
              "}\n",
              "\n",
              "#sk-container-id-2 input.sk-toggleable__control:checked~div.sk-toggleable__content {\n",
              "  /* Expand drop-down */\n",
              "  max-height: 200px;\n",
              "  max-width: 100%;\n",
              "  overflow: auto;\n",
              "}\n",
              "\n",
              "#sk-container-id-2 input.sk-toggleable__control:checked~label.sk-toggleable__label-arrow:before {\n",
              "  content: \"▾\";\n",
              "}\n",
              "\n",
              "/* Pipeline/ColumnTransformer-specific style */\n",
              "\n",
              "#sk-container-id-2 div.sk-label input.sk-toggleable__control:checked~label.sk-toggleable__label {\n",
              "  color: var(--sklearn-color-text);\n",
              "  background-color: var(--sklearn-color-unfitted-level-2);\n",
              "}\n",
              "\n",
              "#sk-container-id-2 div.sk-label.fitted input.sk-toggleable__control:checked~label.sk-toggleable__label {\n",
              "  background-color: var(--sklearn-color-fitted-level-2);\n",
              "}\n",
              "\n",
              "/* Estimator-specific style */\n",
              "\n",
              "/* Colorize estimator box */\n",
              "#sk-container-id-2 div.sk-estimator input.sk-toggleable__control:checked~label.sk-toggleable__label {\n",
              "  /* unfitted */\n",
              "  background-color: var(--sklearn-color-unfitted-level-2);\n",
              "}\n",
              "\n",
              "#sk-container-id-2 div.sk-estimator.fitted input.sk-toggleable__control:checked~label.sk-toggleable__label {\n",
              "  /* fitted */\n",
              "  background-color: var(--sklearn-color-fitted-level-2);\n",
              "}\n",
              "\n",
              "#sk-container-id-2 div.sk-label label.sk-toggleable__label,\n",
              "#sk-container-id-2 div.sk-label label {\n",
              "  /* The background is the default theme color */\n",
              "  color: var(--sklearn-color-text-on-default-background);\n",
              "}\n",
              "\n",
              "/* On hover, darken the color of the background */\n",
              "#sk-container-id-2 div.sk-label:hover label.sk-toggleable__label {\n",
              "  color: var(--sklearn-color-text);\n",
              "  background-color: var(--sklearn-color-unfitted-level-2);\n",
              "}\n",
              "\n",
              "/* Label box, darken color on hover, fitted */\n",
              "#sk-container-id-2 div.sk-label.fitted:hover label.sk-toggleable__label.fitted {\n",
              "  color: var(--sklearn-color-text);\n",
              "  background-color: var(--sklearn-color-fitted-level-2);\n",
              "}\n",
              "\n",
              "/* Estimator label */\n",
              "\n",
              "#sk-container-id-2 div.sk-label label {\n",
              "  font-family: monospace;\n",
              "  font-weight: bold;\n",
              "  display: inline-block;\n",
              "  line-height: 1.2em;\n",
              "}\n",
              "\n",
              "#sk-container-id-2 div.sk-label-container {\n",
              "  text-align: center;\n",
              "}\n",
              "\n",
              "/* Estimator-specific */\n",
              "#sk-container-id-2 div.sk-estimator {\n",
              "  font-family: monospace;\n",
              "  border: 1px dotted var(--sklearn-color-border-box);\n",
              "  border-radius: 0.25em;\n",
              "  box-sizing: border-box;\n",
              "  margin-bottom: 0.5em;\n",
              "  /* unfitted */\n",
              "  background-color: var(--sklearn-color-unfitted-level-0);\n",
              "}\n",
              "\n",
              "#sk-container-id-2 div.sk-estimator.fitted {\n",
              "  /* fitted */\n",
              "  background-color: var(--sklearn-color-fitted-level-0);\n",
              "}\n",
              "\n",
              "/* on hover */\n",
              "#sk-container-id-2 div.sk-estimator:hover {\n",
              "  /* unfitted */\n",
              "  background-color: var(--sklearn-color-unfitted-level-2);\n",
              "}\n",
              "\n",
              "#sk-container-id-2 div.sk-estimator.fitted:hover {\n",
              "  /* fitted */\n",
              "  background-color: var(--sklearn-color-fitted-level-2);\n",
              "}\n",
              "\n",
              "/* Specification for estimator info (e.g. \"i\" and \"?\") */\n",
              "\n",
              "/* Common style for \"i\" and \"?\" */\n",
              "\n",
              ".sk-estimator-doc-link,\n",
              "a:link.sk-estimator-doc-link,\n",
              "a:visited.sk-estimator-doc-link {\n",
              "  float: right;\n",
              "  font-size: smaller;\n",
              "  line-height: 1em;\n",
              "  font-family: monospace;\n",
              "  background-color: var(--sklearn-color-background);\n",
              "  border-radius: 1em;\n",
              "  height: 1em;\n",
              "  width: 1em;\n",
              "  text-decoration: none !important;\n",
              "  margin-left: 0.5em;\n",
              "  text-align: center;\n",
              "  /* unfitted */\n",
              "  border: var(--sklearn-color-unfitted-level-1) 1pt solid;\n",
              "  color: var(--sklearn-color-unfitted-level-1);\n",
              "}\n",
              "\n",
              ".sk-estimator-doc-link.fitted,\n",
              "a:link.sk-estimator-doc-link.fitted,\n",
              "a:visited.sk-estimator-doc-link.fitted {\n",
              "  /* fitted */\n",
              "  border: var(--sklearn-color-fitted-level-1) 1pt solid;\n",
              "  color: var(--sklearn-color-fitted-level-1);\n",
              "}\n",
              "\n",
              "/* On hover */\n",
              "div.sk-estimator:hover .sk-estimator-doc-link:hover,\n",
              ".sk-estimator-doc-link:hover,\n",
              "div.sk-label-container:hover .sk-estimator-doc-link:hover,\n",
              ".sk-estimator-doc-link:hover {\n",
              "  /* unfitted */\n",
              "  background-color: var(--sklearn-color-unfitted-level-3);\n",
              "  color: var(--sklearn-color-background);\n",
              "  text-decoration: none;\n",
              "}\n",
              "\n",
              "div.sk-estimator.fitted:hover .sk-estimator-doc-link.fitted:hover,\n",
              ".sk-estimator-doc-link.fitted:hover,\n",
              "div.sk-label-container:hover .sk-estimator-doc-link.fitted:hover,\n",
              ".sk-estimator-doc-link.fitted:hover {\n",
              "  /* fitted */\n",
              "  background-color: var(--sklearn-color-fitted-level-3);\n",
              "  color: var(--sklearn-color-background);\n",
              "  text-decoration: none;\n",
              "}\n",
              "\n",
              "/* Span, style for the box shown on hovering the info icon */\n",
              ".sk-estimator-doc-link span {\n",
              "  display: none;\n",
              "  z-index: 9999;\n",
              "  position: relative;\n",
              "  font-weight: normal;\n",
              "  right: .2ex;\n",
              "  padding: .5ex;\n",
              "  margin: .5ex;\n",
              "  width: min-content;\n",
              "  min-width: 20ex;\n",
              "  max-width: 50ex;\n",
              "  color: var(--sklearn-color-text);\n",
              "  box-shadow: 2pt 2pt 4pt #999;\n",
              "  /* unfitted */\n",
              "  background: var(--sklearn-color-unfitted-level-0);\n",
              "  border: .5pt solid var(--sklearn-color-unfitted-level-3);\n",
              "}\n",
              "\n",
              ".sk-estimator-doc-link.fitted span {\n",
              "  /* fitted */\n",
              "  background: var(--sklearn-color-fitted-level-0);\n",
              "  border: var(--sklearn-color-fitted-level-3);\n",
              "}\n",
              "\n",
              ".sk-estimator-doc-link:hover span {\n",
              "  display: block;\n",
              "}\n",
              "\n",
              "/* \"?\"-specific style due to the `<a>` HTML tag */\n",
              "\n",
              "#sk-container-id-2 a.estimator_doc_link {\n",
              "  float: right;\n",
              "  font-size: 1rem;\n",
              "  line-height: 1em;\n",
              "  font-family: monospace;\n",
              "  background-color: var(--sklearn-color-background);\n",
              "  border-radius: 1rem;\n",
              "  height: 1rem;\n",
              "  width: 1rem;\n",
              "  text-decoration: none;\n",
              "  /* unfitted */\n",
              "  color: var(--sklearn-color-unfitted-level-1);\n",
              "  border: var(--sklearn-color-unfitted-level-1) 1pt solid;\n",
              "}\n",
              "\n",
              "#sk-container-id-2 a.estimator_doc_link.fitted {\n",
              "  /* fitted */\n",
              "  border: var(--sklearn-color-fitted-level-1) 1pt solid;\n",
              "  color: var(--sklearn-color-fitted-level-1);\n",
              "}\n",
              "\n",
              "/* On hover */\n",
              "#sk-container-id-2 a.estimator_doc_link:hover {\n",
              "  /* unfitted */\n",
              "  background-color: var(--sklearn-color-unfitted-level-3);\n",
              "  color: var(--sklearn-color-background);\n",
              "  text-decoration: none;\n",
              "}\n",
              "\n",
              "#sk-container-id-2 a.estimator_doc_link.fitted:hover {\n",
              "  /* fitted */\n",
              "  background-color: var(--sklearn-color-fitted-level-3);\n",
              "}\n",
              "</style><div id=\"sk-container-id-2\" class=\"sk-top-container\"><div class=\"sk-text-repr-fallback\"><pre>RandomForestClassifier(random_state=42)</pre><b>In a Jupyter environment, please rerun this cell to show the HTML representation or trust the notebook. <br />On GitHub, the HTML representation is unable to render, please try loading this page with nbviewer.org.</b></div><div class=\"sk-container\" hidden><div class=\"sk-item\"><div class=\"sk-estimator fitted sk-toggleable\"><input class=\"sk-toggleable__control sk-hidden--visually\" id=\"sk-estimator-id-2\" type=\"checkbox\" checked><label for=\"sk-estimator-id-2\" class=\"sk-toggleable__label fitted sk-toggleable__label-arrow\"><div><div>RandomForestClassifier</div></div><div><a class=\"sk-estimator-doc-link fitted\" rel=\"noreferrer\" target=\"_blank\" href=\"https://scikit-learn.org/1.6/modules/generated/sklearn.ensemble.RandomForestClassifier.html\">?<span>Documentation for RandomForestClassifier</span></a><span class=\"sk-estimator-doc-link fitted\">i<span>Fitted</span></span></div></label><div class=\"sk-toggleable__content fitted\"><pre>RandomForestClassifier(random_state=42)</pre></div> </div></div></div></div>"
            ]
          },
          "metadata": {},
          "execution_count": 83
        }
      ]
    },
    {
      "cell_type": "code",
      "source": [
        "WORKOUT_RULES = {\n",
        "    'sets': {'Beginner': 3, 'Intermediate': 4, 'Expert': 5},\n",
        "    'reps': {'Beginner': '12-15', 'Intermediate': '8-12', 'Expert': '5-8'}\n",
        "}"
      ],
      "metadata": {
        "id": "yzHZD9YAao2g"
      },
      "execution_count": null,
      "outputs": []
    },
    {
      "cell_type": "code",
      "source": [
        "def generate_workout_plan(bodypart, workout_type, level, days_per_week=3):\n",
        "    try:\n",
        "        # Encode user input safely\n",
        "        if bodypart not in le_bodypart.classes_:\n",
        "            raise ValueError(f\"Unknown BodyPart: {bodypart}\")\n",
        "        if workout_type not in le_type.classes_:\n",
        "            raise ValueError(f\"Unknown Workout Type: {workout_type}\")\n",
        "        if level not in le_level.classes_:\n",
        "            raise ValueError(f\"Unknown Level: {level}\")\n",
        "\n",
        "        bodypart_enc = le_bodypart.transform([bodypart])[0]\n",
        "        type_enc = le_type.transform([workout_type])[0]\n",
        "        level_enc = le_level.transform([level])[0]\n",
        "\n",
        "        # Predict Equipment\n",
        "        equipment_pred = model.predict([[bodypart_enc, type_enc, level_enc]])\n",
        "        equipment_name = le_equipment.inverse_transform(equipment_pred)[0]\n",
        "\n",
        "        # Get sets & reps based on experience level\n",
        "        exp_sets = WORKOUT_RULES['sets'][level]\n",
        "        exp_reps = WORKOUT_RULES['reps'][level]\n",
        "\n",
        "        # Create Workout Schedule\n",
        "        schedule = {}\n",
        "        for i in range(days_per_week):\n",
        "            schedule[f\"Day {i+1}\"] = [\n",
        "                f\"{equipment_name}: {exp_sets} sets x {exp_reps} reps\"\n",
        "            ]\n",
        "\n",
        "        return schedule\n",
        "\n",
        "    except Exception as e:\n",
        "        print(f\"⚠️ Error: {e}\")\n",
        "        return None\n",
        "\n",
        "# Example Usage\n",
        "user_input = {\n",
        "    'bodypart': 'Abdominals',   # e.g., Chest, Back, Legs, etc.\n",
        "    'workout_type': 'Push',  # e.g., Push, Pull, Core\n",
        "    'level': 'Intermediate', # Beginner, Intermediate, Expert\n",
        "    'days_per_week': 4\n",
        "}\n",
        "\n",
        "plan = generate_workout_plan(**user_input)\n",
        "\n",
        "# Print Results\n",
        "if plan:\n",
        "    print(\"\\n🔥 Weekly Workout Plan 🔥\")\n",
        "    for day, exercises in plan.items():\n",
        "        print(f\"\\n{day}:\")\n",
        "        for ex in exercises:\n",
        "            print(f\"- {ex}\")"
      ],
      "metadata": {
        "colab": {
          "base_uri": "https://localhost:8080/"
        },
        "id": "IA2Vu94wbTdu",
        "outputId": "cff0e311-9bed-4f18-ab96-62812737f5bf"
      },
      "execution_count": null,
      "outputs": [
        {
          "output_type": "stream",
          "name": "stdout",
          "text": [
            "⚠️ Error: Unknown BodyPart: Abdominals\n"
          ]
        }
      ]
    },
    {
      "cell_type": "code",
      "source": [
        "import pandas as pd\n",
        "import numpy as np\n",
        "from sklearn.model_selection import train_test_split\n",
        "from sklearn.ensemble import RandomForestClassifier\n",
        "from sklearn.preprocessing import LabelEncoder\n",
        "from google.colab import drive\n",
        "\n",
        "# Step 1: Mount Google Drive\n",
        "drive.mount('/content/drive')\n",
        "\n",
        "# Step 2: Load Dataset from Google Drive\n",
        "file_path = \"/content/drive/My Drive/122Colab/megaGymDataset.csv\"\n",
        "df = pd.read_csv(file_path)\n",
        "\n",
        "# Step 3: Clean Data\n",
        "df = df.applymap(lambda x: x.strip().lower() if isinstance(x, str) else x)  # Standardize text format\n",
        "df.fillna(df.mode().iloc[0], inplace=True)  # Fill missing values\n",
        "\n",
        "# Step 4: Encode Categorical Variables\n",
        "le_bodypart = LabelEncoder()\n",
        "le_level = LabelEncoder()\n",
        "le_equipment = LabelEncoder()\n",
        "\n",
        "df['BodyPart'] = le_bodypart.fit_transform(df['BodyPart'])\n",
        "df['Level'] = le_level.fit_transform(df['Level'])\n",
        "df['Equipment'] = le_equipment.fit_transform(df['Equipment'])\n",
        "\n",
        "# Step 5: Train Model\n",
        "X = df[['BodyPart', 'Level']]  # Removed 'Type'\n",
        "y = df['Equipment']\n",
        "X_train, X_test, y_train, y_test = train_test_split(X, y, test_size=0.2, random_state=42)\n",
        "\n",
        "model = RandomForestClassifier(n_estimators=100, random_state=42)\n",
        "model.fit(X_train, y_train)\n",
        "\n",
        "# Step 6: Workout Rules\n",
        "WORKOUT_RULES = {\n",
        "    'sets': {'beginner': 3, 'intermediate': 4, 'expert': 5},\n",
        "    'reps': {'beginner': '12-15', 'intermediate': '8-12', 'expert': '5-8'}\n",
        "}\n",
        "\n",
        "# Step 7: Function to Generate Workout Plan\n",
        "def generate_workout_plan(bodypart, level, days_per_week=3):\n",
        "    try:\n",
        "        # Convert user input to lowercase & remove spaces\n",
        "        bodypart = bodypart.strip().lower()\n",
        "        level = level.strip().lower()\n",
        "\n",
        "        # DEBUG: Print available categories\n",
        "        print(\"Available BodyParts:\", list(le_bodypart.classes_))  # Debugging step\n",
        "\n",
        "        # Check if inputs exist\n",
        "        if bodypart not in le_bodypart.classes_:\n",
        "            raise ValueError(f\"⚠️ Unknown BodyPart: {bodypart}\")\n",
        "        if level not in le_level.classes_:\n",
        "            raise ValueError(f\"⚠️ Unknown Level: {level}\")\n",
        "\n",
        "        # Encode inputs\n",
        "        bodypart_enc = le_bodypart.transform([bodypart])[0]\n",
        "        level_enc = le_level.transform([level])[0]\n",
        "\n",
        "        # Predict Equipment\n",
        "        equipment_pred = model.predict([[bodypart_enc, level_enc]])\n",
        "        equipment_name = le_equipment.inverse_transform(equipment_pred)[0]\n",
        "\n",
        "        # Get sets & reps\n",
        "        exp_sets = WORKOUT_RULES['sets'][level]\n",
        "        exp_reps = WORKOUT_RULES['reps'][level]\n",
        "\n",
        "        # Create Workout Schedule\n",
        "        schedule = {}\n",
        "        for i in range(days_per_week):\n",
        "            schedule[f\"Day {i+1}\"] = [\n",
        "                f\"{equipment_name}: {exp_sets} sets x {exp_reps} reps\"\n",
        "            ]\n",
        "\n",
        "        return schedule\n",
        "\n",
        "    except Exception as e:\n",
        "        print(f\"⚠️ Error: {e}\")\n",
        "        return None\n",
        "\n",
        "# Example Usage\n",
        "user_input = {\n",
        "    'bodypart': 'Lats',   # Ensure lowercase\n",
        "    'level': 'expert',\n",
        "    'days_per_week': 6\n",
        "}\n",
        "\n",
        "plan = generate_workout_plan(**user_input)\n",
        "\n",
        "# Print Results\n",
        "if plan:\n",
        "    print(\"\\n🔥 Weekly Workout Plan 🔥\")\n",
        "    for day, exercises in plan.items():\n",
        "        print(f\"\\n{day}:\")\n",
        "        for ex in exercises:\n",
        "            print(f\"- {ex}\")\n"
      ],
      "metadata": {
        "colab": {
          "base_uri": "https://localhost:8080/"
        },
        "id": "C9GfiW8xciZ3",
        "outputId": "7b486a8f-704e-4f7a-e9be-3f6fda680cd9"
      },
      "execution_count": null,
      "outputs": [
        {
          "output_type": "stream",
          "name": "stdout",
          "text": [
            "Drive already mounted at /content/drive; to attempt to forcibly remount, call drive.mount(\"/content/drive\", force_remount=True).\n",
            "Available BodyParts: ['abdominals', 'abductors', 'adductors', 'biceps', 'calves', 'chest', 'forearms', 'glutes', 'hamstrings', 'lats', 'lower back', 'middle back', 'neck', 'quadriceps', 'shoulders', 'traps', 'triceps']\n",
            "\n",
            "🔥 Weekly Workout Plan 🔥\n",
            "\n",
            "Day 1:\n",
            "- other: 5 sets x 5-8 reps\n",
            "\n",
            "Day 2:\n",
            "- other: 5 sets x 5-8 reps\n",
            "\n",
            "Day 3:\n",
            "- other: 5 sets x 5-8 reps\n",
            "\n",
            "Day 4:\n",
            "- other: 5 sets x 5-8 reps\n",
            "\n",
            "Day 5:\n",
            "- other: 5 sets x 5-8 reps\n",
            "\n",
            "Day 6:\n",
            "- other: 5 sets x 5-8 reps\n"
          ]
        },
        {
          "output_type": "stream",
          "name": "stderr",
          "text": [
            "<ipython-input-106-c811ce13c39a>:16: FutureWarning: DataFrame.applymap has been deprecated. Use DataFrame.map instead.\n",
            "  df = df.applymap(lambda x: x.strip().lower() if isinstance(x, str) else x)  # Standardize text format\n",
            "/usr/local/lib/python3.11/dist-packages/sklearn/utils/validation.py:2739: UserWarning: X does not have valid feature names, but RandomForestClassifier was fitted with feature names\n",
            "  warnings.warn(\n"
          ]
        }
      ]
    },
    {
      "cell_type": "code",
      "source": [
        "import pandas as pd\n",
        "\n",
        "# Load the new dataset\n",
        "file_path_new = \"/content/drive/My Drive/122Colab/gym_members_exercise_tracking.csv\"\n",
        "df_new = pd.read_csv(file_path_new)\n",
        "\n",
        "# Display the first few rows\n",
        "print(df_new.info())\n",
        "print(df_new.head())"
      ],
      "metadata": {
        "colab": {
          "base_uri": "https://localhost:8080/"
        },
        "id": "4os3Uq0NeO8i",
        "outputId": "605559f1-9123-4743-a669-0eed25405fde"
      },
      "execution_count": null,
      "outputs": [
        {
          "output_type": "stream",
          "name": "stdout",
          "text": [
            "<class 'pandas.core.frame.DataFrame'>\n",
            "RangeIndex: 973 entries, 0 to 972\n",
            "Data columns (total 15 columns):\n",
            " #   Column                         Non-Null Count  Dtype  \n",
            "---  ------                         --------------  -----  \n",
            " 0   Age                            973 non-null    int64  \n",
            " 1   Gender                         973 non-null    object \n",
            " 2   Weight (kg)                    973 non-null    float64\n",
            " 3   Height (m)                     973 non-null    float64\n",
            " 4   Max_BPM                        973 non-null    int64  \n",
            " 5   Avg_BPM                        973 non-null    int64  \n",
            " 6   Resting_BPM                    973 non-null    int64  \n",
            " 7   Session_Duration (hours)       973 non-null    float64\n",
            " 8   Calories_Burned                973 non-null    float64\n",
            " 9   Workout_Type                   973 non-null    object \n",
            " 10  Fat_Percentage                 973 non-null    float64\n",
            " 11  Water_Intake (liters)          973 non-null    float64\n",
            " 12  Workout_Frequency (days/week)  973 non-null    int64  \n",
            " 13  Experience_Level               973 non-null    int64  \n",
            " 14  BMI                            973 non-null    float64\n",
            "dtypes: float64(7), int64(6), object(2)\n",
            "memory usage: 114.2+ KB\n",
            "None\n",
            "   Age  Gender  Weight (kg)  Height (m)  Max_BPM  Avg_BPM  Resting_BPM  \\\n",
            "0   56    Male         88.3        1.71      180      157           60   \n",
            "1   46  Female         74.9        1.53      179      151           66   \n",
            "2   32  Female         68.1        1.66      167      122           54   \n",
            "3   25    Male         53.2        1.70      190      164           56   \n",
            "4   38    Male         46.1        1.79      188      158           68   \n",
            "\n",
            "   Session_Duration (hours)  Calories_Burned Workout_Type  Fat_Percentage  \\\n",
            "0                      1.69           1313.0         Yoga            12.6   \n",
            "1                      1.30            883.0         HIIT            33.9   \n",
            "2                      1.11            677.0       Cardio            33.4   \n",
            "3                      0.59            532.0     Strength            28.8   \n",
            "4                      0.64            556.0     Strength            29.2   \n",
            "\n",
            "   Water_Intake (liters)  Workout_Frequency (days/week)  Experience_Level  \\\n",
            "0                    3.5                              4                 3   \n",
            "1                    2.1                              4                 2   \n",
            "2                    2.3                              4                 2   \n",
            "3                    2.1                              3                 1   \n",
            "4                    2.8                              3                 1   \n",
            "\n",
            "     BMI  \n",
            "0  30.20  \n",
            "1  32.00  \n",
            "2  24.71  \n",
            "3  18.41  \n",
            "4  14.39  \n"
          ]
        }
      ]
    },
    {
      "cell_type": "code",
      "source": [
        "import pandas as pd\n",
        "\n",
        "# Load the original dataset\n",
        "file_path_old = \"/content/drive/My Drive/122Colab/megaGymDataset.csv\"\n",
        "df_old = pd.read_csv(file_path_old)\n",
        "\n",
        "# Load the new dataset\n",
        "file_path_new = \"/content/drive/My Drive/122Colab/gym_members_exercise_tracking.csv\"\n",
        "df_new = pd.read_csv(file_path_new)\n",
        "\n",
        "# Check column names\n",
        "print(\"Old Dataset Columns:\", df_old.columns)\n",
        "print(\"New Dataset Columns:\", df_new.columns)\n",
        "\n",
        "# Display first few rows\n",
        "print(df_old.head())\n",
        "print(df_new.head())\n"
      ],
      "metadata": {
        "colab": {
          "base_uri": "https://localhost:8080/"
        },
        "id": "OR12iUTGeUXi",
        "outputId": "8eeb814e-5a19-4733-f1c1-86767b3b7e0f"
      },
      "execution_count": null,
      "outputs": [
        {
          "output_type": "stream",
          "name": "stdout",
          "text": [
            "Old Dataset Columns: Index(['Unnamed: 0', 'Title', 'Desc', 'Type', 'BodyPart', 'Equipment', 'Level',\n",
            "       'Rating', 'RatingDesc'],\n",
            "      dtype='object')\n",
            "New Dataset Columns: Index(['Age', 'Gender', 'Weight (kg)', 'Height (m)', 'Max_BPM', 'Avg_BPM',\n",
            "       'Resting_BPM', 'Session_Duration (hours)', 'Calories_Burned',\n",
            "       'Workout_Type', 'Fat_Percentage', 'Water_Intake (liters)',\n",
            "       'Workout_Frequency (days/week)', 'Experience_Level', 'BMI'],\n",
            "      dtype='object')\n",
            "   Unnamed: 0                         Title  \\\n",
            "0           0        Partner plank band row   \n",
            "1           1  Banded crunch isometric hold   \n",
            "2           2         FYR Banded Plank Jack   \n",
            "3           3                 Banded crunch   \n",
            "4           4                        Crunch   \n",
            "\n",
            "                                                Desc      Type    BodyPart  \\\n",
            "0  The partner plank band row is an abdominal exe...  Strength  Abdominals   \n",
            "1  The banded crunch isometric hold is an exercis...  Strength  Abdominals   \n",
            "2  The banded plank jack is a variation on the pl...  Strength  Abdominals   \n",
            "3  The banded crunch is an exercise targeting the...  Strength  Abdominals   \n",
            "4  The crunch is a popular core exercise targetin...  Strength  Abdominals   \n",
            "\n",
            "  Equipment         Level  Rating RatingDesc  \n",
            "0     Bands  Intermediate     0.0        NaN  \n",
            "1     Bands  Intermediate     NaN        NaN  \n",
            "2     Bands  Intermediate     NaN        NaN  \n",
            "3     Bands  Intermediate     NaN        NaN  \n",
            "4     Bands  Intermediate     NaN        NaN  \n",
            "   Age  Gender  Weight (kg)  Height (m)  Max_BPM  Avg_BPM  Resting_BPM  \\\n",
            "0   56    Male         88.3        1.71      180      157           60   \n",
            "1   46  Female         74.9        1.53      179      151           66   \n",
            "2   32  Female         68.1        1.66      167      122           54   \n",
            "3   25    Male         53.2        1.70      190      164           56   \n",
            "4   38    Male         46.1        1.79      188      158           68   \n",
            "\n",
            "   Session_Duration (hours)  Calories_Burned Workout_Type  Fat_Percentage  \\\n",
            "0                      1.69           1313.0         Yoga            12.6   \n",
            "1                      1.30            883.0         HIIT            33.9   \n",
            "2                      1.11            677.0       Cardio            33.4   \n",
            "3                      0.59            532.0     Strength            28.8   \n",
            "4                      0.64            556.0     Strength            29.2   \n",
            "\n",
            "   Water_Intake (liters)  Workout_Frequency (days/week)  Experience_Level  \\\n",
            "0                    3.5                              4                 3   \n",
            "1                    2.1                              4                 2   \n",
            "2                    2.3                              4                 2   \n",
            "3                    2.1                              3                 1   \n",
            "4                    2.8                              3                 1   \n",
            "\n",
            "     BMI  \n",
            "0  30.20  \n",
            "1  32.00  \n",
            "2  24.71  \n",
            "3  18.41  \n",
            "4  14.39  \n"
          ]
        }
      ]
    },
    {
      "cell_type": "code",
      "source": [
        "print(\"Old Dataset Columns:\", df_old.columns.tolist())\n",
        "print(\"New Dataset Columns:\", df_new.columns.tolist())\n"
      ],
      "metadata": {
        "colab": {
          "base_uri": "https://localhost:8080/"
        },
        "id": "yAmNetI_eqZi",
        "outputId": "1fba5849-5605-4939-fbf2-8894c4a47dbc"
      },
      "execution_count": null,
      "outputs": [
        {
          "output_type": "stream",
          "name": "stdout",
          "text": [
            "Old Dataset Columns: ['Unnamed: 0', 'Title', 'Desc', 'Type', 'BodyPart', 'Equipment', 'Level', 'Rating', 'RatingDesc']\n",
            "New Dataset Columns: ['Age', 'Gender', 'Weight (kg)', 'Height (m)', 'Max_BPM', 'Avg_BPM', 'Resting_BPM', 'Session_Duration (hours)', 'Calories_Burned', 'Workout_Type', 'Fat_Percentage', 'Water_Intake (liters)', 'Workout_Frequency (days/week)', 'Experience_Level', 'BMI']\n"
          ]
        }
      ]
    },
    {
      "cell_type": "code",
      "source": [
        "df_old.rename(columns={'Muscle Group': 'BodyPart'}, inplace=True)\n",
        "df_new.rename(columns={'Muscle Used': 'BodyPart'}, inplace=True)  # Example\n"
      ],
      "metadata": {
        "id": "IKD6Wahbe8Ao"
      },
      "execution_count": null,
      "outputs": []
    },
    {
      "cell_type": "code",
      "source": [
        "df_combined = pd.concat([df_old, df_new], ignore_index=True)  # Stacks them\n"
      ],
      "metadata": {
        "id": "A8dZ2mbXe83g"
      },
      "execution_count": null,
      "outputs": []
    },
    {
      "cell_type": "code",
      "source": [
        "print(df_combined.info())  # Check data structure\n",
        "print(df_combined.head())  # Preview first rows\n"
      ],
      "metadata": {
        "colab": {
          "base_uri": "https://localhost:8080/"
        },
        "id": "ukdwoLgne-2X",
        "outputId": "6cce7a27-69d5-4cd8-8b50-205a7b1be482"
      },
      "execution_count": null,
      "outputs": [
        {
          "output_type": "stream",
          "name": "stdout",
          "text": [
            "<class 'pandas.core.frame.DataFrame'>\n",
            "RangeIndex: 3891 entries, 0 to 3890\n",
            "Data columns (total 24 columns):\n",
            " #   Column                         Non-Null Count  Dtype  \n",
            "---  ------                         --------------  -----  \n",
            " 0   Unnamed: 0                     2918 non-null   float64\n",
            " 1   Title                          2918 non-null   object \n",
            " 2   Desc                           1368 non-null   object \n",
            " 3   Type                           2918 non-null   object \n",
            " 4   BodyPart                       2918 non-null   object \n",
            " 5   Equipment                      2886 non-null   object \n",
            " 6   Level                          2918 non-null   object \n",
            " 7   Rating                         1031 non-null   float64\n",
            " 8   RatingDesc                     862 non-null    object \n",
            " 9   Age                            973 non-null    float64\n",
            " 10  Gender                         973 non-null    object \n",
            " 11  Weight (kg)                    973 non-null    float64\n",
            " 12  Height (m)                     973 non-null    float64\n",
            " 13  Max_BPM                        973 non-null    float64\n",
            " 14  Avg_BPM                        973 non-null    float64\n",
            " 15  Resting_BPM                    973 non-null    float64\n",
            " 16  Session_Duration (hours)       973 non-null    float64\n",
            " 17  Calories_Burned                973 non-null    float64\n",
            " 18  Workout_Type                   973 non-null    object \n",
            " 19  Fat_Percentage                 973 non-null    float64\n",
            " 20  Water_Intake (liters)          973 non-null    float64\n",
            " 21  Workout_Frequency (days/week)  973 non-null    float64\n",
            " 22  Experience_Level               973 non-null    float64\n",
            " 23  BMI                            973 non-null    float64\n",
            "dtypes: float64(15), object(9)\n",
            "memory usage: 729.7+ KB\n",
            "None\n",
            "   Unnamed: 0                         Title  \\\n",
            "0         0.0        Partner plank band row   \n",
            "1         1.0  Banded crunch isometric hold   \n",
            "2         2.0         FYR Banded Plank Jack   \n",
            "3         3.0                 Banded crunch   \n",
            "4         4.0                        Crunch   \n",
            "\n",
            "                                                Desc      Type    BodyPart  \\\n",
            "0  The partner plank band row is an abdominal exe...  Strength  Abdominals   \n",
            "1  The banded crunch isometric hold is an exercis...  Strength  Abdominals   \n",
            "2  The banded plank jack is a variation on the pl...  Strength  Abdominals   \n",
            "3  The banded crunch is an exercise targeting the...  Strength  Abdominals   \n",
            "4  The crunch is a popular core exercise targetin...  Strength  Abdominals   \n",
            "\n",
            "  Equipment         Level  Rating RatingDesc  Age  ... Avg_BPM  Resting_BPM  \\\n",
            "0     Bands  Intermediate     0.0        NaN  NaN  ...     NaN          NaN   \n",
            "1     Bands  Intermediate     NaN        NaN  NaN  ...     NaN          NaN   \n",
            "2     Bands  Intermediate     NaN        NaN  NaN  ...     NaN          NaN   \n",
            "3     Bands  Intermediate     NaN        NaN  NaN  ...     NaN          NaN   \n",
            "4     Bands  Intermediate     NaN        NaN  NaN  ...     NaN          NaN   \n",
            "\n",
            "   Session_Duration (hours)  Calories_Burned  Workout_Type  Fat_Percentage  \\\n",
            "0                       NaN              NaN           NaN             NaN   \n",
            "1                       NaN              NaN           NaN             NaN   \n",
            "2                       NaN              NaN           NaN             NaN   \n",
            "3                       NaN              NaN           NaN             NaN   \n",
            "4                       NaN              NaN           NaN             NaN   \n",
            "\n",
            "   Water_Intake (liters)  Workout_Frequency (days/week) Experience_Level  BMI  \n",
            "0                    NaN                            NaN              NaN  NaN  \n",
            "1                    NaN                            NaN              NaN  NaN  \n",
            "2                    NaN                            NaN              NaN  NaN  \n",
            "3                    NaN                            NaN              NaN  NaN  \n",
            "4                    NaN                            NaN              NaN  NaN  \n",
            "\n",
            "[5 rows x 24 columns]\n"
          ]
        }
      ]
    },
    {
      "cell_type": "code",
      "source": [
        "def generate_workout_plan(bodypart, level, days_per_week=3):\n",
        "    try:\n",
        "        # Encode user input\n",
        "        bodypart_enc = le_bodypart.transform([bodypart])[0]\n",
        "        level_enc = le_level.transform([level])[0]\n",
        "\n",
        "        # Predict Equipment\n",
        "        equipment_pred = model_eq.predict([[bodypart_enc, level_enc]])\n",
        "        equipment_name = le_equipment.inverse_transform(equipment_pred)[0]\n",
        "\n",
        "        # Get exercise details\n",
        "        exercise_details = df_combined[df_combined['BodyPart'] == bodypart]\n",
        "        if not exercise_details.empty:\n",
        "            exercise_name = exercise_details['Exercise'].iloc[0]\n",
        "            sets = exercise_details['Sets'].iloc[0]\n",
        "            reps = exercise_details['Reps'].iloc[0]\n",
        "            calories = exercise_details['Calories Burned'].iloc[0]\n",
        "        else:\n",
        "            exercise_name, sets, reps, calories = \"Unknown\", 3, \"10-12\", \"N/A\"\n",
        "\n",
        "        # Create Workout Schedule\n",
        "        schedule = {}\n",
        "        for i in range(days_per_week):\n",
        "            schedule[f\"Day {i+1}\"] = [\n",
        "                f\"{exercise_name} ({equipment_name}): {sets} sets x {reps} reps (🔥 {calories} kcal)\"\n",
        "            ]\n",
        "\n",
        "        return schedule\n",
        "\n",
        "    except Exception as e:\n",
        "        print(f\"⚠️ Error: {e}\")\n",
        "        return None\n",
        "\n",
        "# Example Usage\n",
        "user_input = {\n",
        "    'bodypart': 'Chest',\n",
        "    'level': 'Intermediate',\n",
        "    'days_per_week': 4\n",
        "}\n",
        "\n",
        "plan = generate_workout_plan(**user_input)\n",
        "\n",
        "# Print Results\n",
        "if plan:\n",
        "    print(\"\\n🔥 Weekly Workout Plan 🔥\")\n",
        "    for day, exercises in plan.items():\n",
        "        print(f\"\\n{day}:\")\n",
        "        for ex in exercises:\n",
        "            print(f\"- {ex}\")\n"
      ],
      "metadata": {
        "colab": {
          "base_uri": "https://localhost:8080/"
        },
        "id": "OIEKve_1fTNE",
        "outputId": "52de0f9d-1689-420b-e007-dd92ca0f423b"
      },
      "execution_count": null,
      "outputs": [
        {
          "output_type": "stream",
          "name": "stdout",
          "text": [
            "⚠️ Error: 'RandomForestClassifier' object has no attribute 'estimators_'\n"
          ]
        }
      ]
    },
    {
      "cell_type": "code",
      "source": [
        "import pandas as pd\n",
        "import random\n",
        "import os\n",
        "\n",
        "def load_and_merge_datasets(file1, file2):\n",
        "    # Check if files exist before loading\n",
        "    if not os.path.exists(file1) or not os.path.exists(file2):\n",
        "        raise FileNotFoundError(\"One or both dataset files not found. Ensure they are in the correct directory.\")\n",
        "\n",
        "    # Load datasets\n",
        "    df1 = pd.read_csv(file1)\n",
        "    df2 = pd.read_csv(file2)\n",
        "\n",
        "    # Drop unnecessary columns from megaGymDataset\n",
        "    df2 = df2.drop(columns=[\"Unnamed: 0\", \"Desc\", \"Rating\", \"RatingDesc\"], errors='ignore')\n",
        "\n",
        "    # Standardize column names for merging\n",
        "    df1.rename(columns={\"Workout_Type\": \"Type\", \"Experience_Level\": \"Level\"}, inplace=True)\n",
        "\n",
        "    # Convert Level in df1 to match df2\n",
        "    level_mapping = {\"1\": \"Beginner\", \"2\": \"Intermediate\", \"3\": \"Advanced\"}\n",
        "    df1[\"Level\"] = df1[\"Level\"].astype(str).map(level_mapping)\n",
        "\n",
        "    # Standardize Type column\n",
        "    df1[\"Type\"] = df1[\"Type\"].replace({\"HIIT\": \"High Intensity\", \"Yoga\": \"Flexibility\"})\n",
        "\n",
        "    # Merge datasets\n",
        "    merged_df = pd.merge(df1, df2, on=[\"Type\", \"Level\"], how=\"inner\")\n",
        "    return merged_df\n",
        "\n",
        "def generate_workout_plan(merged_df, body_part, workout_type, level, num_days=5):\n",
        "    \"\"\"\n",
        "    Generates a workout schedule based on user input.\n",
        "\n",
        "    Parameters:\n",
        "    - merged_df (DataFrame): Merged dataset\n",
        "    - body_part (str): Targeted muscle group (e.g., Chest, Legs, Back)\n",
        "    - workout_type (str): Type of workout (e.g., Strength, Cardio)\n",
        "    - level (str): Experience level (Beginner, Intermediate, Advanced)\n",
        "    - num_days (int): Number of workout days in the plan (default: 5)\n",
        "\n",
        "    Returns:\n",
        "    - Dict with day-wise exercise schedule.\n",
        "    \"\"\"\n",
        "    filtered_df = merged_df[\n",
        "        (merged_df[\"BodyPart\"].str.contains(body_part, case=False, na=False)) &\n",
        "        (merged_df[\"Type\"].str.contains(workout_type, case=False, na=False)) &\n",
        "        (merged_df[\"Level\"] == level)\n",
        "    ]\n",
        "\n",
        "    if filtered_df.empty:\n",
        "        return {\"Error\": \"No exercises found for the given inputs. Try different criteria.\"}\n",
        "\n",
        "    exercises = filtered_df[\"Title\"].unique().tolist()\n",
        "    random.shuffle(exercises)\n",
        "\n",
        "    workout_plan = {}\n",
        "    for i in range(num_days):\n",
        "        day = f\"Day {i+1}\"\n",
        "        if exercises:\n",
        "            exercise = exercises.pop()\n",
        "            workout_plan[day] = {\n",
        "                \"Exercise\": exercise,\n",
        "                \"Sets\": random.choice([3, 4, 5]),\n",
        "                \"Reps\": random.choice([8, 10, 12, 15])\n",
        "            }\n",
        "        else:\n",
        "            workout_plan[day] = \"Rest Day\"\n",
        "\n",
        "    return workout_plan\n",
        "\n",
        "# Example usage\n",
        "file1 = \"/content/drive/My Drive/122Colab/gym_members_exercise_tracking.csv\"\n",
        "file2 = \"/content/drive/My Drive/122Colab/megaGymDataset.csv\"\n",
        "\n",
        "try:\n",
        "    merged_df = load_and_merge_datasets(file1, file2)\n",
        "    sample_plan = generate_workout_plan(merged_df, \"Chest\", \"Strength\", \"Intermediate\")\n",
        "    print(sample_plan)\n",
        "except FileNotFoundError as e:\n",
        "    print(e)"
      ],
      "metadata": {
        "colab": {
          "base_uri": "https://localhost:8080/"
        },
        "id": "ODWWNNH-gEf1",
        "outputId": "168f7b0e-4601-41c3-afe5-4d2c30f72246"
      },
      "execution_count": null,
      "outputs": [
        {
          "output_type": "stream",
          "name": "stdout",
          "text": [
            "{'Day 1': {'Exercise': 'Single-arm cable cross-over', 'Sets': 5, 'Reps': 8}, 'Day 2': {'Exercise': '30 Chest Machine Fly', 'Sets': 4, 'Reps': 10}, 'Day 3': {'Exercise': 'AM Dumbbell Bench Press', 'Sets': 3, 'Reps': 8}, 'Day 4': {'Exercise': 'Holman Foot-Up Diving Push-Up', 'Sets': 3, 'Reps': 8}, 'Day 5': {'Exercise': 'Chest dip', 'Sets': 3, 'Reps': 10}}\n"
          ]
        }
      ]
    },
    {
      "cell_type": "code",
      "source": [
        "import pandas as pd\n",
        "import random\n",
        "import os\n",
        "\n",
        "def load_and_merge_datasets(file1, file2):\n",
        "    # Check if files exist before loading\n",
        "    if not os.path.exists(file1) or not os.path.exists(file2):\n",
        "        raise FileNotFoundError(\"One or both dataset files not found. Ensure they are in the correct directory.\")\n",
        "\n",
        "    # Load datasets\n",
        "    df1 = pd.read_csv(file1)\n",
        "    df2 = pd.read_csv(file2)\n",
        "\n",
        "    # Drop unnecessary columns from megaGymDataset\n",
        "    df2 = df2.drop(columns=[\"Unnamed: 0\", \"Desc\", \"Rating\", \"RatingDesc\"], errors='ignore')\n",
        "\n",
        "    # Standardize column names for merging\n",
        "    df1.rename(columns={\"Workout_Type\": \"Type\", \"Experience_Level\": \"Level\"}, inplace=True)\n",
        "\n",
        "    # Convert Level in df1 to match df2\n",
        "    level_mapping = {\"1\": \"Beginner\", \"2\": \"Intermediate\", \"3\": \"Advanced\"}\n",
        "    df1[\"Level\"] = df1[\"Level\"].astype(str).map(level_mapping)\n",
        "\n",
        "    # Standardize Type column\n",
        "    df1[\"Type\"] = df1[\"Type\"].replace({\"HIIT\": \"High Intensity\", \"Yoga\": \"Flexibility\"})\n",
        "\n",
        "    # Merge datasets\n",
        "    merged_df = pd.merge(df1, df2, on=[\"Type\", \"Level\"], how=\"inner\")\n",
        "    return merged_df\n",
        "\n",
        "def calculate_bmi(weight, height):\n",
        "    \"\"\"Calculates BMI given weight (kg) and height (m).\"\"\"\n",
        "    return round(weight / (height ** 2), 2)\n",
        "\n",
        "def get_fitness_goal(bmi, gender):\n",
        "    \"\"\"Suggests a workout goal based on BMI and gender.\"\"\"\n",
        "    if bmi < 18.5:\n",
        "        return \"Muscle Gain\"\n",
        "    elif 18.5 <= bmi < 24.9:\n",
        "        return \"General Fitness\"\n",
        "    elif 25 <= bmi < 29.9:\n",
        "        return \"Fat Loss\"\n",
        "    else:\n",
        "        return \"Weight Loss\"\n",
        "\n",
        "def generate_workout_plan(merged_df, body_part, workout_type, level, num_days=5):\n",
        "    \"\"\"\n",
        "    Generates a workout schedule based on user input.\n",
        "\n",
        "    Parameters:\n",
        "    - merged_df (DataFrame): Merged dataset\n",
        "    - body_part (str): Targeted muscle group (e.g., Chest, Legs, Back)\n",
        "    - workout_type (str): Type of workout (e.g., Strength, Cardio)\n",
        "    - level (str): Experience level (Beginner, Intermediate, Advanced)\n",
        "    - num_days (int): Number of workout days in the plan (default: 5)\n",
        "\n",
        "    Returns:\n",
        "    - Dict with day-wise exercise schedule.\n",
        "    \"\"\"\n",
        "    filtered_df = merged_df[\n",
        "        (merged_df[\"BodyPart\"].str.contains(body_part, case=False, na=False)) &\n",
        "        (merged_df[\"Type\"].str.contains(workout_type, case=False, na=False)) &\n",
        "        (merged_df[\"Level\"] == level)\n",
        "    ]\n",
        "\n",
        "    if filtered_df.empty:\n",
        "        return {\"Error\": \"No exercises found for the given inputs. Try different criteria.\"}\n",
        "\n",
        "    exercises = filtered_df[\"Title\"].unique().tolist()\n",
        "    random.shuffle(exercises)\n",
        "\n",
        "    workout_plan = {}\n",
        "    for i in range(num_days):\n",
        "        day = f\"Day {i+1}\"\n",
        "        if exercises:\n",
        "            exercise = exercises.pop()\n",
        "            workout_plan[day] = {\n",
        "                \"Exercise\": exercise,\n",
        "                \"Sets\": random.choice([3, 4, 5]),\n",
        "                \"Reps\": random.choice([8, 10, 12, 15])\n",
        "            }\n",
        "        else:\n",
        "            workout_plan[day] = \"Rest Day\"\n",
        "\n",
        "    return workout_plan\n",
        "\n",
        "# Example usage\n",
        "file1 = \"/content/drive/My Drive/122Colab/gym_members_exercise_tracking.csv\"\n",
        "file2 = \"/content/drive/My Drive/122Colab/megaGymDataset.csv\"\n",
        "\n",
        "try:\n",
        "    merged_df = load_and_merge_datasets(file1, file2)\n",
        "\n",
        "    # Get user input\n",
        "    weight = float(input(\"Enter your weight (kg): \"))\n",
        "    height = float(input(\"Enter your height (m): \"))\n",
        "    gender = input(\"Enter your gender (Male/Female): \").strip().capitalize()\n",
        "    body_part = input(\"Enter the body part to focus on (e.g., Chest, Legs, Back): \").strip().capitalize()\n",
        "    level = input(\"Enter your experience level (Beginner, Intermediate, Advanced): \").strip().capitalize()\n",
        "\n",
        "    # Calculate BMI and determine fitness goal\n",
        "    bmi = calculate_bmi(weight, height)\n",
        "    fitness_goal = get_fitness_goal(bmi, gender)\n",
        "    print(f\"Your BMI is {bmi}, and your suggested fitness goal is: {fitness_goal}\")\n",
        "\n",
        "    # Generate workout plan based on the fitness goal\n",
        "    sample_plan = generate_workout_plan(merged_df, body_part, fitness_goal, level)\n",
        "    print(\"Your Workout Plan:\")\n",
        "    for day, details in sample_plan.items():\n",
        "        print(f\"{day}: {details}\")\n",
        "\n",
        "except FileNotFoundError as e:\n",
        "    print(e)"
      ],
      "metadata": {
        "colab": {
          "base_uri": "https://localhost:8080/"
        },
        "id": "bbroWhcXh4aL",
        "outputId": "ef19c626-6fb1-4754-d603-0dd5101ba682"
      },
      "execution_count": null,
      "outputs": [
        {
          "output_type": "stream",
          "name": "stdout",
          "text": [
            "One or both dataset files not found. Ensure they are in the correct directory.\n"
          ]
        }
      ]
    }
  ]
}